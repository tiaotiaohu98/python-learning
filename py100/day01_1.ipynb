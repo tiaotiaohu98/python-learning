{
 "cells": [
  {
   "cell_type": "code",
   "execution_count": null,
   "id": "initial_id",
   "metadata": {
    "collapsed": true
   },
   "outputs": [],
   "source": [
    "# 格式化输出\n",
    "goods_name = '大白菜'\n",
    "goods_price = 9.6355\n",
    "\n",
    "print('%s今天特价了，只要%.2f元/斤' % (goods_name, goods_price))\n",
    "\n",
    "# 特殊符号输出\n",
    "num = 5.5\n",
    "print('原油价格上浮%.1f%%!!' % (num))\n",
    "\n",
    "# 格式化输出\n",
    "num = 1\n",
    "name = 'Tom'\n",
    "address = 'China'\n",
    "\n",
    "print(f'名字叫：{name}，学号为：{num}, 来自：{address}')\n",
    "\n",
    "print(f'{goods_name} 今天特价了，只要{goods_price}元/斤！')\n",
    "print(f'{goods_name} 今天特价了，只要{goods_price:.2f}元/斤！')\n"
   ]
  },
  {
   "cell_type": "code",
   "execution_count": null,
   "id": "8e911903e9bd2346",
   "metadata": {
    "ExecuteTime": {
     "end_time": "2023-10-26T09:15:22.619887Z",
     "start_time": "2023-10-26T09:15:22.606706500Z"
    },
    "collapsed": false
   },
   "outputs": [],
   "source": [
    "# 转义字符\n",
    "name = '张三'\n",
    "age = 23\n",
    "mobile = '10086'\n",
    "\n",
    "print(name, end='')\n",
    "print(age, end='')\n",
    "print(mobile, end='')\n",
    "\n",
    "print('name\\tage\\nmobile')"
   ]
  },
  {
   "cell_type": "code",
   "execution_count": null,
   "id": "ef3fd04a9eb1ca05",
   "metadata": {
    "ExecuteTime": {
     "end_time": "2023-10-26T09:31:52.893218900Z",
     "start_time": "2023-10-26T09:31:51.388514500Z"
    },
    "collapsed": false
   },
   "outputs": [],
   "source": [
    "# input()\n",
    "'''\n",
    "    返回的类型都是字符串类型，时常需要转换数据类型\n",
    "'''\n",
    "\n",
    "pwd = input('请输入你的密码: ')\n",
    "print(pwd)\n",
    "print(type(pwd))\n",
    "\n",
    "set(pwd)\n",
    "print(pwd)\n",
    "print(type(pwd))"
   ]
  },
  {
   "cell_type": "code",
   "execution_count": null,
   "id": "661606b84044632c",
   "metadata": {
    "ExecuteTime": {
     "end_time": "2023-10-26T10:14:04.197665700Z",
     "start_time": "2023-10-26T10:13:51.220660700Z"
    },
    "collapsed": false
   },
   "outputs": [],
   "source": [
    "uname = input('请输入用户名: ')\n",
    "pwd = input('请输入密码: ')\n",
    "print('您好，您输入的用户名是%s, 密码是%s，欢迎登录系统。' % (uname, pwd))\n",
    "print(f'您好，您输入的用户名是{uname}, 密码是{pwd}，欢迎登录系统。')"
   ]
  },
  {
   "cell_type": "code",
   "execution_count": null,
   "id": "47749e7bcf9b9fd3",
   "metadata": {
    "ExecuteTime": {
     "end_time": "2023-10-26T10:18:06.682634600Z",
     "start_time": "2023-10-26T10:18:06.669630900Z"
    },
    "collapsed": false
   },
   "outputs": [],
   "source": [
    "price = 9.00\n",
    "weight = 5.00\n",
    "money = 45.00\n",
    "print('苹果单价%.2f元/斤，购买了 %.2f斤，需要支付%.2f元' % (price, weight, money))\n",
    "print(f'苹果单价{price:.2f}元/斤，购买了{weight:.2f}斤，需要支付{money:.2f}元')"
   ]
  },
  {
   "cell_type": "code",
   "execution_count": null,
   "id": "3849aefad9143810",
   "metadata": {
    "ExecuteTime": {
     "end_time": "2023-10-26T11:08:39.885049800Z",
     "start_time": "2023-10-26T11:08:30.241643800Z"
    },
    "collapsed": false
   },
   "outputs": [],
   "source": [
    "uname = input('请输入用户姓名：')\n",
    "age = input('请输入年龄：')\n",
    "weight = input('请输入体重')\n",
    "print(f'用户姓名:{uname},年龄:{age}岁,当前体重是{weight}kg。')"
   ]
  },
  {
   "cell_type": "code",
   "execution_count": null,
   "id": "41df118170744b00",
   "metadata": {
    "ExecuteTime": {
     "end_time": "2023-10-26T11:10:06.370860600Z",
     "start_time": "2023-10-26T11:10:06.364860900Z"
    },
    "collapsed": false
   },
   "outputs": [],
   "source": [
    "scale = 10.0\n",
    "print('数据比例是%.2f%%' % (scale))"
   ]
  },
  {
   "cell_type": "code",
   "execution_count": null,
   "id": "c7de0d8ed6b31e55",
   "metadata": {
    "ExecuteTime": {
     "end_time": "2023-10-26T11:44:00.987908Z",
     "start_time": "2023-10-26T11:44:00.974126800Z"
    },
    "collapsed": false
   },
   "outputs": [],
   "source": [
    "print(\"hell\",100)\n",
    "\"\"\"\n",
    "\"\"\""
   ]
  }
 ],
 "metadata": {
  "kernelspec": {
   "display_name": "Python 3",
   "language": "python",
   "name": "python3"
  },
  "language_info": {
   "codemirror_mode": {
    "name": "ipython",
    "version": 3
   },
   "file_extension": ".py",
   "mimetype": "text/x-python",
   "name": "python",
   "nbconvert_exporter": "python",
   "pygments_lexer": "ipython3",
   "version": "3.10.11"
  }
 },
 "nbformat": 4,
 "nbformat_minor": 5
}
