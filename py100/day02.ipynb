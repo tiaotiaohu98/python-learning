{
 "cells": [
  {
   "cell_type": "code",
   "execution_count": null,
   "id": "initial_id",
   "metadata": {
    "collapsed": true
   },
   "outputs": [],
   "source": [
    "num = input('请输入商品编号信息：')\n",
    "name = input('请输入商品名称信息：')\n",
    "price = float(input('请输入商品价格信息：'))\n",
    "\n",
    "print(f'您购买了{name},商品编号为{num},商品价格为{price * 3}, 欢迎下次光临！')\n",
    "\n",
    "'''\n",
    "    字符串与数字N相乘，是把字符串复制N份\n",
    "    input() 接收和返回的都是字符类型\n",
    "'''"
   ]
  },
  {
   "cell_type": "code",
   "execution_count": null,
   "outputs": [],
   "source": [
    "num1 = 9.88\n",
    "num1 = int(num1)\n",
    "print(num1)\n",
    "\n",
    "#  \n",
    "str2 = '10'\n",
    "num2 = int(str2)\n",
    "print(num2)\n",
    "\n",
    "num3 = 20\n",
    "print(float(num3))\n",
    "\n",
    "num4 = 6.93\n",
    "print(str(num4))\n",
    "print(type(str(num4)))\n",
    "\n",
    "# 浮点型字符串应该先转换为浮点型再转换为int，否则会直接报错\n",
    "str5 = '7.66'\n",
    "print(int(str5))\n",
    "num5 = float(str5)\n",
    "print(int(num5))"
   ],
   "metadata": {
    "collapsed": false
   },
   "id": "26dd2730e82a4d37"
  },
  {
   "cell_type": "code",
   "execution_count": null,
   "outputs": [],
   "source": [
    "# 字符类型转其他类型\n",
    "str1 = '10'\n",
    "print(eval(str1), type(eval(str1)))\n",
    "\n",
    "str1 = '9.88'\n",
    "print(eval(str1), type(eval(str1)))\n",
    "\n",
    "#  eval()方法只能转换数值型字符串 ，原理是去掉引号\n",
    "str1 = '123abc'\n",
    "print(eval(str1), type(eval(str1)))"
   ],
   "metadata": {
    "collapsed": false
   },
   "id": "9b4530048e6ffd18"
  },
  {
   "cell_type": "code",
   "execution_count": null,
   "outputs": [],
   "source": [
    "# 算数运算符\n",
    "print(1 + 2)\n",
    "print(2 - 1)\n",
    "print(2 * 3)\n",
    "print(10 / 2)\n",
    "print(10 // 2)\n",
    "print(9 % 4)\n",
    "print(2 ** 3)\n",
    "print((1 + 1) * 2)\n",
    "\n"
   ],
   "metadata": {
    "collapsed": false
   },
   "id": "41286c6600e4b7f0"
  },
  {
   "cell_type": "code",
   "execution_count": null,
   "outputs": [],
   "source": [
    "'''\n",
    "    求模取余时，分子分母都应该为int类型，否则会有精度损失\n",
    "'''\n",
    "# print(10**9+7)\n",
    "# print(7+1e+9)\n",
    "# \n",
    "# num1 = 10**9+7\n",
    "# num2 = 7+1e+9\n",
    "\n",
    "num = 999999996000000004\n",
    "\n",
    "print(num % 215)\n",
    "print(9223372036854775807 % 2)\n",
    "print(9223372036854775807 % 2)\n",
    "# print(2*10**18)\n",
    "# print(num%float(num1))\n",
    "# \n",
    "# print(num%num2)\n",
    "# \n",
    "# print(num%int(num2))\n",
    "\n"
   ],
   "metadata": {
    "collapsed": false
   },
   "id": "49fd495662a1e9ae"
  },
  {
   "cell_type": "code",
   "execution_count": null,
   "outputs": [],
   "source": [
    "a = eval(input('请输入梯形的上底：'))\n",
    "b = eval(input('请输入梯形的下底：'))\n",
    "h = eval(input('请输入梯形的高：'))\n",
    "\n",
    "s = (a + b) * h / 2\n",
    "\n",
    "print(f'梯形的面积为：{s:.2f}')\n",
    "\n"
   ],
   "metadata": {
    "collapsed": false
   },
   "id": "e5da7ee669a8eab1"
  },
  {
   "cell_type": "code",
   "execution_count": null,
   "outputs": [],
   "source": [
    "# 变量赋值\n",
    "# 1、单变量赋值\n",
    "name = '张三'\n",
    "age = 25\n",
    "\n",
    "sum = 1 + 1\n",
    "print(sum)\n",
    "# 2、多变量赋值\n",
    "a, b, c = 10, 9.99, 'hello'\n",
    "print(a, b, c)\n",
    "# 3、多变量赋相同的值\n",
    "q = w = 1\n",
    "print(q, w)"
   ],
   "metadata": {
    "collapsed": false
   },
   "id": "cd466341f03bafed"
  },
  {
   "cell_type": "code",
   "execution_count": null,
   "outputs": [],
   "source": [
    "num = 10\n",
    "num += 1\n",
    "print(num)\n",
    "\n",
    "num1 = 9\n",
    "num1 %= 4\n",
    "print(num1)\n",
    "\n",
    "num2 = 2\n",
    "num2 **= 3\n",
    "print(num2)"
   ],
   "metadata": {
    "collapsed": false
   },
   "id": "269cebbc1fa01c95"
  },
  {
   "cell_type": "code",
   "execution_count": null,
   "outputs": [],
   "source": [
    "print(3 > 2)\n",
    "print(2 < 3)\n",
    "print(5 >= 5)\n",
    "print(5 == 6)\n",
    "print(5 != 6)"
   ],
   "metadata": {
    "collapsed": false
   },
   "id": "e6566c5d94903498"
  },
  {
   "cell_type": "code",
   "execution_count": null,
   "outputs": [],
   "source": [
    "a = 1\n",
    "b = 2\n",
    "c = 3\n",
    "\n",
    "print(a > b and b > c)\n",
    "print(a > b or b > c)\n",
    "print(not (a > b))"
   ],
   "metadata": {
    "collapsed": false
   },
   "id": "cf8e2111fcb5d50e"
  },
  {
   "cell_type": "code",
   "execution_count": null,
   "outputs": [],
   "source": [
    "import math\n",
    "\n",
    "r = int(input('请输入一个半径: '))\n",
    "\n",
    "s = math.pi * r * r\n",
    "\n",
    "print(f'圆的面积为: {s:.2f}')"
   ],
   "metadata": {
    "collapsed": false
   },
   "id": "498d4906a43406f9"
  },
  {
   "cell_type": "code",
   "execution_count": null,
   "outputs": [],
   "source": [
    "high = int(input('请输入您的身高:'))\n",
    "weight = int(input('请输入您的体重:'))\n",
    "BMI = weight / high\n",
    "\n",
    "print(f'你的BMI为: {BMI:.2f}')"
   ],
   "metadata": {
    "collapsed": false
   },
   "id": "1aa27dc358386ffd"
  },
  {
   "cell_type": "code",
   "execution_count": null,
   "outputs": [],
   "source": [
    "side1 = int(input('请输入第一条边:'))\n",
    "side2 = int(input('请输入第二条边:'))\n",
    "side3 = int(input('请输入第三条边:'))\n",
    "\n",
    "if side1 + side2 > side3 and side1 + side3 > side2 and side2 + side3 > side1:\n",
    "    print(\"是一个合法的三角形\")\n",
    "else:\n",
    "    print('不是一个合法的三角形')"
   ],
   "metadata": {
    "collapsed": false
   },
   "id": "e2f7c94b994067c7"
  },
  {
   "cell_type": "code",
   "execution_count": null,
   "outputs": [],
   "source": [
    "age = int(input('请输入您的年龄: '))\n",
    "\n",
    "if age >= 18:\n",
    "    print('您已经成年,可以上网!!')\n",
    "else:\n",
    "    print('对不起, 您未成年! 请再吃几年饭再来!!!')"
   ],
   "metadata": {
    "collapsed": false
   },
   "id": "6bb184dcdf08043c"
  },
  {
   "cell_type": "code",
   "execution_count": null,
   "outputs": [],
   "source": [
    "proof = int(input('请输入车辆驾驶员每100ml血液中酒精含量(mg):'))\n",
    "\n",
    "if proof >= 20:\n",
    "    if proof >= 80:\n",
    "        print('酒精含量超标,您已经涉嫌醉驾! 小可爱跟我们走一趟吧!')\n",
    "    else:\n",
    "        print('酒精含量超标,您已经涉嫌酒驾! 不想活了,走吧')\n",
    "else:\n",
    "    print('不涉嫌酒驾!')\n"
   ],
   "metadata": {
    "collapsed": false
   },
   "id": "1f1fd07116aabb76"
  },
  {
   "cell_type": "code",
   "execution_count": null,
   "outputs": [],
   "source": [
    "import random\n",
    "\n",
    "while True:\n",
    "    # 石头剪刀布游戏\n",
    "    player = int(input('请出拳:'))\n",
    "\n",
    "    computer = random.randint(0, 2)  # 1表示剪刀\n",
    "\n",
    "    if (player == 0 and computer == 1) or (player == 1 and computer == 2) or (player == 2 and computer == 0):\n",
    "        print('玩家获胜')\n",
    "    elif player == computer:\n",
    "        print('平局')\n",
    "    else:\n",
    "        print('电脑获胜')"
   ],
   "metadata": {
    "collapsed": false
   },
   "id": "be8b0f56760531cf"
  },
  {
   "cell_type": "code",
   "execution_count": null,
   "outputs": [],
   "source": [
    "# 三目运算符\n",
    "num1 = int(input('请输入第一个数值:'))\n",
    "num2 = int(input('请输入第二个数值:'))\n",
    "\n",
    "max = 0\n",
    "\n",
    "max = num1 if num1 > num2 else num2\n",
    "\n",
    "print(f'最大值为:{max}')"
   ],
   "metadata": {
    "collapsed": false
   },
   "id": "8f4c7718b4b11b71"
  },
  {
   "cell_type": "code",
   "execution_count": null,
   "outputs": [],
   "source": [
    "name = input('请输入姓名:')\n",
    "age = int(input('请输入年龄:'))\n",
    "\n",
    "if age>64:\n",
    "    print(f'{name}已到退休年龄，可以退休了')\n",
    "else:\n",
    "    print(f'{name}骚年好好加油，多多创造自身价值吧！')"
   ],
   "metadata": {
    "collapsed": false
   },
   "id": "f9cec00b714ce0df"
  },
  {
   "cell_type": "code",
   "execution_count": null,
   "outputs": [],
   "source": [
    "# 货物吨数、运输公里数\n",
    "# 求解应付的实际运费额。\n",
    "weight = int(input('请输入货物吨数: '))\n",
    "s = int(input('请输入运输公里数s: '))\n",
    "\n",
    "money = 0\n",
    "\n",
    "if s<100:\n",
    "    money = weight * s * 10\n",
    "    if money >= 5000:\n",
    "        money *= 0.95\n",
    "    print(f'应付的实际运费额为: {money:.2f}')\n",
    "elif 100<=s<150:\n",
    "    money = weight * s * 8\n",
    "    if money >= 5000:\n",
    "        money *= 0.95\n",
    "    print(f'应付的实际运费额为: {money:.2f}')\n",
    "elif 150<=s<200:\n",
    "    money = weight * s * 7\n",
    "    if money >= 5000:\n",
    "        money *= 0.95\n",
    "    print(f'应付的实际运费额为: {money:.2f}')\n",
    "elif 200<=s<300:\n",
    "    money = weight * s * 6\n",
    "    if money >= 5000:\n",
    "        money *= 0.95\n",
    "    print(f'应付的实际运费额为: {money:.2f}')\n",
    "elif 300<=s<500:\n",
    "    money = weight * s * 5.5\n",
    "    if money >= 5000:\n",
    "        money *= 0.95\n",
    "    print(f'应付的实际运费额为: {money:.2f}')\n",
    "elif s>=500:\n",
    "    money = weight * s * 5\n",
    "    if money >= 5000:\n",
    "        money *= 0.95\n",
    "    print(f'应付的实际运费额为: {money:.2f}')\n"
   ],
   "metadata": {
    "collapsed": false
   },
   "id": "d5aef075391ccb9a"
  },
  {
   "cell_type": "code",
   "execution_count": 115,
   "outputs": [
    {
     "name": "stdout",
     "output_type": "stream",
     "text": [
      "用户名或密码错误!\n"
     ]
    }
   ],
   "source": [
    "uname = input('请输入用户名: ')\n",
    "pwd = input('请输入密码: ')\n",
    "code = input('请输入验证码: ')\n",
    "\n",
    "if code != 'ASDF':\n",
    "    print('验证码错误!')\n",
    "else:\n",
    "    if uname != 'heimauser' and pwd != '123456':\n",
    "        print('用户名或密码错误!')\n",
    "    else:\n",
    "        print('登录成功')"
   ],
   "metadata": {
    "collapsed": false,
    "ExecuteTime": {
     "end_time": "2023-10-27T11:50:51.327298800Z",
     "start_time": "2023-10-27T11:50:45.908603Z"
    }
   },
   "id": "1ec9d2990ce5a1d6"
  }
 ],
 "metadata": {
  "kernelspec": {
   "display_name": "Python 3",
   "language": "python",
   "name": "python3"
  },
  "language_info": {
   "codemirror_mode": {
    "name": "ipython",
    "version": 2
   },
   "file_extension": ".py",
   "mimetype": "text/x-python",
   "name": "python",
   "nbconvert_exporter": "python",
   "pygments_lexer": "ipython2",
   "version": "2.7.6"
  }
 },
 "nbformat": 4,
 "nbformat_minor": 5
}
