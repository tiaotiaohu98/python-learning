{
 "cells": [
  {
   "cell_type": "code",
   "execution_count": null,
   "id": "initial_id",
   "metadata": {
    "collapsed": true
   },
   "outputs": [],
   "source": [
    "i = 0\n",
    "Nums=0\n",
    "while i<100:\n",
    "    i += 1\n",
    "    Nums += i\n",
    "    print(i)\n",
    "print(Nums)"
   ]
  },
  {
   "cell_type": "code",
   "execution_count": null,
   "outputs": [],
   "source": [
    "i = 0\n",
    "while i < 5:\n",
    "    i += 1\n",
    "    print('* '*i,end=' ')\n",
    "    print()"
   ],
   "metadata": {
    "collapsed": false
   },
   "id": "f7e61a72034b566c"
  },
  {
   "cell_type": "code",
   "execution_count": null,
   "outputs": [],
   "source": [
    "# 用户名为 python，密码 123456，如果输入正确，打印“欢迎光临”，程序结束，如果输入错误，提示用户输入错误并重新输入\n",
    "uname = input('请输入用户名：')\n",
    "pwd = input('请输入密码：')\n",
    "\n",
    "i = 0\n",
    "while i<10:\n",
    "    i += 1\n",
    "    if uname =='python' and pwd =='123456':\n",
    "        print('欢迎光临')\n",
    "        break\n",
    "    else:\n",
    "        print('输入错误请重新输入！')"
   ],
   "metadata": {
    "collapsed": false
   },
   "id": "ae2451fb03a7488"
  },
  {
   "cell_type": "code",
   "execution_count": null,
   "outputs": [],
   "source": [
    "for i in range(1,101):\n",
    "    if i%7==0:\n",
    "        print('哈~')\n",
    "        continue\n",
    "    else:\n",
    "        print(i)"
   ],
   "metadata": {
    "collapsed": false
   },
   "id": "3ef7b06988f12d67"
  },
  {
   "cell_type": "code",
   "execution_count": null,
   "outputs": [],
   "source": [
    "str1 = input('请输入一个字符串：')\n",
    "\n",
    "for i in str1:\n",
    "    if i == 'q':\n",
    "        print(i)\n",
    "        break\n",
    "    elif i == ' ':\n",
    "        continue\n",
    "    else:\n",
    "        print(i)"
   ],
   "metadata": {
    "collapsed": false
   },
   "id": "b4198583eb987296"
  },
  {
   "cell_type": "code",
   "execution_count": 20,
   "outputs": [
    {
     "name": "stdout",
     "output_type": "stream",
     "text": [
      "55\n"
     ]
    }
   ],
   "source": [
    "nums = int(input('请输入一个数字：'))\n",
    "sums=0\n",
    "\n",
    "for i in range(1,nums+1):\n",
    "    sums += i\n",
    "    \n",
    "print(sums)"
   ],
   "metadata": {
    "collapsed": false,
    "ExecuteTime": {
     "end_time": "2023-10-28T12:00:11.561072700Z",
     "start_time": "2023-10-28T12:00:08.591549100Z"
    }
   },
   "id": "ec47df5def65a362"
  }
 ],
 "metadata": {
  "kernelspec": {
   "display_name": "Python 3",
   "language": "python",
   "name": "python3"
  },
  "language_info": {
   "codemirror_mode": {
    "name": "ipython",
    "version": 2
   },
   "file_extension": ".py",
   "mimetype": "text/x-python",
   "name": "python",
   "nbconvert_exporter": "python",
   "pygments_lexer": "ipython2",
   "version": "2.7.6"
  }
 },
 "nbformat": 4,
 "nbformat_minor": 5
}
