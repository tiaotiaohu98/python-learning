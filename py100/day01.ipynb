{
 "cells": [
  {
   "cell_type": "code",
   "execution_count": null,
   "id": "initial_id",
   "metadata": {
    "collapsed": true
   },
   "outputs": [],
   "source": [
    "import datetime\n",
    "\n",
    "# 牛顿迭代法求方程根 ax^3+bx^2 +cx+d=0\n",
    "'''\n",
    "    牛顿法：\n",
    "        1、设置一个初始值x0=1.5\n",
    "        2、套用牛顿法公式，则 x(k+1) = xk - f(xk)/df(xk)\n",
    "        3、df(xk) 表示 函数f(x)在xk处的导数\n",
    "        4、循环调用公式，直到到达一定条件 x>1e-5,停止循环\n",
    "        5、此时x即为函数的近似解\n",
    "'''\n",
    "def solution(a, b, c, d):\n",
    "    x0=1.5\n",
    "    f=a*x0**3+b*x0**2 + c*x0 +d\n",
    "    fd=a*x0**2+2*b*x0+c\n",
    "    h=f/fd\n",
    "    x = x0-h\n",
    "    \n",
    "    while abs(x-x0)>1e-5:\n",
    "        x0=x\n",
    "        f=a*x0**3+b*x0**2 + c*x0 +d\n",
    "        fd=a*x0**2+2*b*x0+c \n",
    "        h=f/fd\n",
    "        x = x0-h\n",
    "        \n",
    "    return x\n",
    "\n",
    "if __name__ == '__main__':\n",
    "    print(\"请输入方程的系数：\")\n",
    "    # a,b,c,d代表所求方程的系数\n",
    "    a, b, c, d = map(float, input().split())\n",
    "    print(\"方程的参数为：\" , a, b, c, d)\n",
    "    # x用来记录求得的方程根\n",
    "    x = solution(a, b, c, d)\n",
    "    print(\"所求方程的根为x=%.6f\"% x)"
   ]
  },
  {
   "cell_type": "code",
   "execution_count": 10,
   "outputs": [
    {
     "name": "stdout",
     "output_type": "stream",
     "text": [
      "公鸡数量： 0 母鸡数量： 25 小鸡数量: 75\n",
      "公鸡数量： 4 母鸡数量： 18 小鸡数量: 78\n",
      "公鸡数量： 8 母鸡数量： 11 小鸡数量: 81\n",
      "公鸡数量： 12 母鸡数量： 4 小鸡数量: 84\n"
     ]
    }
   ],
   "source": [
    "# 百钱百鸡\n",
    "# x  5  # 公鸡\n",
    "# y  3  # 母鸡\n",
    "# 3z  1 # 小鸡\n",
    "# 现需要用100买100只鸡\n",
    "'''\n",
    "    5x+3y+1*z/3=100\n",
    "    x+y+z = 100\n",
    "    求解方程组\n",
    "'''\n",
    "if __name__==\"__main__\":\n",
    "    x = 0\n",
    "    # 公鸡的数量不能超过20\n",
    "    while x < 20:\n",
    "        y=0\n",
    "        # 母鸡的数量最多不能超过33\n",
    "        while y < 34:\n",
    "            # 已知公鸡和母鸡的数量求小鸡的数量\n",
    "            z=100 - x - y\n",
    "            if 5*x+3*y+z/3 == 100:\n",
    "                print(\"公鸡数量：\",x,\"母鸡数量：\",y,\"小鸡数量:\",z)\n",
    "            y += 1\n",
    "        x += 1"
   ],
   "metadata": {
    "collapsed": false,
    "ExecuteTime": {
     "end_time": "2023-10-25T07:47:29.952773400Z",
     "start_time": "2023-10-25T07:47:29.938768100Z"
    }
   },
   "id": "cc1ead2b39518adb"
  },
  {
   "cell_type": "code",
   "execution_count": 18,
   "outputs": [
    {
     "name": "stdout",
     "output_type": "stream",
     "text": [
      "please input 指定日期 包括年,月,日 如:1999 1 31\n",
      "12380 days, 0:00:00\n",
      "今天在晒网!!!\n"
     ]
    }
   ],
   "source": [
    "'''\n",
    "    3天打鱼2天晒网\n",
    "    从1990年1月1日开始\n",
    "    输入一个日期，求这天是在打鱼还是在晒网\n",
    "'''\n",
    "# 计算两个日期之间的的天数之差\n",
    "import datetime\n",
    "def diff(date):\n",
    "    date1 = datetime.datetime(1990,1,1)\n",
    "    year = int(date.split( )[0])\n",
    "    month = int(date.split( )[1])\n",
    "    day = int(date.split( )[2])\n",
    "    date2 = datetime.datetime(year,month,day)\n",
    "    interval = date2-date1\n",
    "    print(interval)\n",
    "    return interval.days\n",
    "\n",
    "if __name__ == '__main__':\n",
    "    print(\"please input 指定日期 包括年,月,日 如:1999 1 31\")\n",
    "    date = input()\n",
    "    # 求出输入日期和1990年1月1日的天数之差\n",
    "    diff_day = diff(date);\n",
    "    \n",
    "    # 求模取余\n",
    "    x = diff_day%5\n",
    "    \n",
    "    if 0< x < 4:\n",
    "        print(\"今天在打鱼!!!!\")\n",
    "    else:\n",
    "        print(\"今天在晒网!!!\")"
   ],
   "metadata": {
    "collapsed": false,
    "ExecuteTime": {
     "end_time": "2023-10-25T08:14:44.881473800Z",
     "start_time": "2023-10-25T08:14:39.411310200Z"
    }
   },
   "id": "5177ba3ae375d729"
  },
  {
   "cell_type": "code",
   "execution_count": 19,
   "outputs": [
    {
     "name": "stdout",
     "output_type": "stream",
     "text": [
      "应该存入钱数为：4039.44\n"
     ]
    }
   ],
   "source": [
    "'''\n",
    "    最佳存款方案\n",
    "    月息 ： 0.63%\n",
    "    要第5年取1000元，每年取1000元，求一开始应该存多少钱\n",
    "'''\n",
    "if __name__==\"__main__\":\n",
    "    i = 0\n",
    "    money = 0.0\n",
    "    while i < 5:\n",
    "        money = (money + 1000)/(1 + 0.0063 * 12)\n",
    "        i += 1\n",
    "    print(\"应该存入钱数为：%0.2f\" %money)"
   ],
   "metadata": {
    "collapsed": false,
    "ExecuteTime": {
     "end_time": "2023-10-25T08:19:12.551553500Z",
     "start_time": "2023-10-25T08:19:12.544356Z"
    }
   },
   "id": "b1096bda87d5ffba"
  },
  {
   "cell_type": "code",
   "execution_count": 1,
   "outputs": [
    {
     "name": "stdout",
     "output_type": "stream",
     "text": [
      "1 0 2 6\n",
      "2 0 3 5\n"
     ]
    }
   ],
   "source": [
    "'''\n",
    "    一个口袋中放有12个球，已知其中3个是红的，3个\n",
    "    是白的，6个是黑的，现从中任取8个，问共有多少种可\n",
    "    能的颜色搭配\n",
    "'''\n",
    "\n",
    "if __name__==\"__main__\":\n",
    "    num,m,n=0,0,0\n",
    "    while m<=3:\n",
    "        while n<=3: \n",
    "            if 8-m-n<=6:\n",
    "                num += 1\n",
    "                print(num,m,n,8-m-n)\n",
    "            n += 1\n",
    "        m += 1"
   ],
   "metadata": {
    "collapsed": false,
    "ExecuteTime": {
     "end_time": "2023-10-26T00:50:28.671817300Z",
     "start_time": "2023-10-26T00:50:28.661377Z"
    }
   },
   "id": "4a0044522b400c7"
  },
  {
   "cell_type": "code",
   "execution_count": null,
   "outputs": [],
   "source": [],
   "metadata": {
    "collapsed": false
   },
   "id": "e27ce81b3879862"
  }
 ],
 "metadata": {
  "kernelspec": {
   "display_name": "Python 3",
   "language": "python",
   "name": "python3"
  },
  "language_info": {
   "codemirror_mode": {
    "name": "ipython",
    "version": 2
   },
   "file_extension": ".py",
   "mimetype": "text/x-python",
   "name": "python",
   "nbconvert_exporter": "python",
   "pygments_lexer": "ipython2",
   "version": "2.7.6"
  }
 },
 "nbformat": 4,
 "nbformat_minor": 5
}
