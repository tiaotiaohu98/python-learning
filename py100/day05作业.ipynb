{
 "cells": [
  {
   "cell_type": "code",
   "execution_count": null,
   "metadata": {},
   "outputs": [],
   "source": [
    "def gender(gender='男'):\n",
    "        print(f'所选性别为:{gender}')\n",
    "\n",
    "gender()\n",
    "gender('女')"
   ]
  },
  {
   "cell_type": "code",
   "execution_count": null,
   "metadata": {},
   "outputs": [],
   "source": [
    "def num(*args):\n",
    "    print(args)\n",
    "\n",
    "num()\n",
    "num(1,2)\n",
    "num(1,2,3)"
   ]
  },
  {
   "cell_type": "code",
   "execution_count": null,
   "metadata": {},
   "outputs": [],
   "source": [
    "def num(**kwargs):\n",
    "    for k,v in kwargs.items():\n",
    "        print(f'key: {k} value:{v}')\n",
    "\n",
    "num(name='电脑',price=7000)"
   ]
  },
  {
   "cell_type": "code",
   "execution_count": null,
   "metadata": {},
   "outputs": [],
   "source": [
    "def num(*args,**kwargs):\n",
    "    for i in args:\n",
    "        print(i)\n",
    "    for k,v in kwargs.items():\n",
    "        print(f'k: {k}, value: {v}')\n",
    "    \n",
    "num(1,2,a=3,b=4)\n",
    "num(3,4,5,6,a=1)\n",
    "num(a=1,b=2)"
   ]
  },
  {
   "cell_type": "code",
   "execution_count": null,
   "metadata": {},
   "outputs": [],
   "source": [
    "def run():\n",
    "    print('我在跑步')\n",
    "    print('管住嘴，迈开腿')\n",
    "# run()\n",
    "\n",
    "for i in range(1000):\n",
    "    print(f'这是第{i}遍')\n",
    "    run()"
   ]
  },
  {
   "cell_type": "code",
   "execution_count": null,
   "metadata": {},
   "outputs": [],
   "source": [
    "def fun(*args,**kwargs):\n",
    "    sum = 0\n",
    "    for i in args:\n",
    "        sum += i\n",
    "    for v in kwargs.values():\n",
    "        sum += v\n",
    "    print(sum)\n",
    "\n",
    "list1 = [1,2,3]\n",
    "dict1 = {'a':4,'b':5,'c':6}\n",
    "\n",
    "fun(*list1,**dict1)"
   ]
  },
  {
   "cell_type": "code",
   "execution_count": null,
   "metadata": {},
   "outputs": [],
   "source": [
    "def addnum(a,b):\n",
    "    return a+b\n",
    "\n",
    "addnum(7,13)"
   ]
  },
  {
   "cell_type": "code",
   "execution_count": null,
   "metadata": {
    "ExecuteTime": {
     "end_time": "2023-10-31T13:14:44.180186300Z",
     "start_time": "2023-10-31T13:14:44.169731Z"
    }
   },
   "outputs": [],
   "source": [
    "import random\n",
    "\n",
    "str1 = \"0123456789abcdefghijklmnopgrstuvwxyzABCDEFGHIJKLMNOPQRSTUVWXYZ\"\n",
    "for i in range(4):\n",
    "    x = random.randint(0,len(str1)-1)\n",
    "    print(str1[x])"
   ]
  },
  {
   "cell_type": "code",
   "execution_count": null,
   "metadata": {
    "ExecuteTime": {
     "end_time": "2023-10-31T13:11:27.841526500Z",
     "start_time": "2023-10-31T13:11:19.049300900Z"
    },
    "collapsed": false
   },
   "outputs": [],
   "source": [
    "name = input('请输入用户名：')\n",
    "pwd = input('请输入密码：')\n",
    "\n",
    "cnt = 3\n",
    "for i in range(3):\n",
    "    name = input('请输入用户名：')\n",
    "    pwd = input('请输入密码：')\n",
    "    cnt -= 1\n",
    "    if name=='admin' and pwd == 'admin888':\n",
    "        print('登录成功')\n",
    "    else:\n",
    "        print(f'用户名或密码错误, 您还有{cnt}次机会')"
   ]
  },
  {
   "cell_type": "code",
   "execution_count": null,
   "metadata": {},
   "outputs": [],
   "source": []
  }
 ],
 "metadata": {
  "kernelspec": {
   "display_name": "MyRepo1",
   "language": "python",
   "name": "python3"
  },
  "language_info": {
   "codemirror_mode": {
    "name": "ipython",
    "version": 3
   },
   "file_extension": ".py",
   "mimetype": "text/x-python",
   "name": "python",
   "nbconvert_exporter": "python",
   "pygments_lexer": "ipython3",
   "version": "3.9.16"
  },
  "orig_nbformat": 4
 },
 "nbformat": 4,
 "nbformat_minor": 2
}
