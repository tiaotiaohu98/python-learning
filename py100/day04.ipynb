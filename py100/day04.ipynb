{
 "cells": [
  {
   "cell_type": "code",
   "execution_count": null,
   "id": "initial_id",
   "metadata": {
    "collapsed": true
   },
   "outputs": [],
   "source": [
    "numstr = '0123456789'\n",
    "\n",
    "print(numstr[0:5:1])\n",
    "print(numstr[0:5:2])"
   ]
  },
  {
   "cell_type": "code",
   "execution_count": null,
   "outputs": [],
   "source": [
    "print(numstr[0:])\n",
    "\n",
    "print(numstr[:6])\n",
    "\n",
    "print(numstr[:])\n",
    "\n",
    "print(numstr[::-1])\n",
    "\n",
    "print(numstr[-1:-4:-1],\"sss\")\n",
    "\n",
    "print(numstr[0:9:2])\n",
    "\n",
    "print(numstr[-4:-1:-1],'asda')"
   ],
   "metadata": {
    "collapsed": false
   },
   "id": "367e6223749d2b32"
  },
  {
   "cell_type": "code",
   "execution_count": null,
   "outputs": [],
   "source": [
    "# 字符串方法\n",
    "# find() 查找关键词第一次出现的第一个字符所在位置\n",
    "# count() 统计关键词出现的个数\n",
    "str1 = 'hello python hello java hello sql'\n",
    "\n",
    "print(str1.find('hello'))\n",
    "print(str1.count('hello'))\n",
    "\n",
    "# 字符串修改\n",
    "print(str1.replace('hello','666'))     # 替换字符串中的指定子串\n",
    "\n",
    "str2 = 'apple-banana-orange'\n",
    "list2 = str2.split('-')                # 按指定分隔符切割\n",
    "print(list2)\n",
    "\n",
    "list3 = ['apple','banana','orange']\n",
    "str3 = '-'.join(list3)                 # 将字符串拼接\n",
    "print(str3)\n",
    "\n",
    "# 字符串判断\n",
    "pwd = input('请输入您要设置的银行卡密码：')\n",
    "\n",
    "if len(pwd) == 6 and pwd.isdigit():\n",
    "    print('设置成功！')\n",
    "else:\n",
    "    print('设置失败！您输入的不是数字!')"
   ],
   "metadata": {
    "collapsed": false
   },
   "id": "5af3a03936ad2cca"
  },
  {
   "cell_type": "code",
   "execution_count": null,
   "outputs": [],
   "source": [
    "# 列表\n",
    "students = ['Tom','Lily','Rose']\n",
    "print(students)\n",
    "print(type(students))\n",
    "\n",
    "fruits = ['apple','banana','orange']\n",
    "print(fruits)\n",
    "print(type(fruits))"
   ],
   "metadata": {
    "collapsed": false
   },
   "id": "34eeea06affb8096"
  },
  {
   "cell_type": "code",
   "execution_count": null,
   "outputs": [],
   "source": [
    "names = ['刘备','关羽','张飞']\n",
    "i = 0\n",
    "while i < len(names):\n",
    "    print(names[i])\n",
    "    i+=1\n",
    "\n",
    "print('-' * 40)\n",
    "for i in names:\n",
    "    print(i)"
   ],
   "metadata": {
    "collapsed": false
   },
   "id": "f65ce8d11c598e69"
  },
  {
   "cell_type": "code",
   "execution_count": null,
   "outputs": [],
   "source": [
    "# 在尾部增加元素\n",
    "# students.append('张三')\n",
    "# students.append('李四')\n",
    "# students.append('王五')\n",
    "\n",
    "# print(students)\n",
    "\n",
    "# 修改列表内容\n",
    "students[2] = '田七'\n",
    "print(students)"
   ],
   "metadata": {
    "collapsed": false
   },
   "id": "c2bca73ea1d846a7"
  },
  {
   "cell_type": "code",
   "execution_count": null,
   "outputs": [],
   "source": [
    "# 查询列表内容\n",
    "list1 = ['刘备','关羽','张飞']\n",
    "\n",
    "if '赵云' not in list1:\n",
    "    print('赵云不在列表中')\n",
    "\n",
    "# 删除列表元素\n",
    "sanhuang = ['曹操','孙权','孙策','刘备']\n",
    "print(sanhuang)\n",
    "sanhuang.remove('孙策')\n",
    "print(sanhuang)\n",
    "\n",
    "# 翻转列表\n",
    "sanhuang.reverse()\n",
    "print(sanhuang)\n",
    "\n",
    "# 对列表元素排序，默认升序\n",
    "list2 = [5,3,7,4,2,1] \n",
    "list2.sort()\n",
    "print(list2)\n",
    "# 降序\n",
    "list2.sort(reverse=True)\n",
    "print(list2)\n",
    "\n",
    "# 通过切片实现列表翻转\n",
    "print(list2[::-1])\n"
   ],
   "metadata": {
    "collapsed": false
   },
   "id": "8a85af9746df02e0"
  },
  {
   "cell_type": "code",
   "execution_count": null,
   "outputs": [],
   "source": [
    "list1 = [['张三','李四'],['王五','赵六']]\n",
    "print(list1[0][1])\n",
    "print(list1[1][1])"
   ],
   "metadata": {
    "collapsed": false
   },
   "id": "5fb72f4479c6ee98"
  },
  {
   "cell_type": "code",
   "execution_count": null,
   "outputs": [],
   "source": [
    "# 单元组定义\n",
    "tuple1 = (10,)\n",
    "# 多元组定义\n",
    "tuple2 = (10,20,30)\n",
    "\n",
    "# 元组的打印输出\n",
    "print(tuple1)\n",
    "print(tuple2)\n",
    "# 打印元组的数据类型\n",
    "print(type(tuple1))\n",
    "print(type(tuple2))"
   ],
   "metadata": {
    "collapsed": false
   },
   "id": "4dfa9dcadd65958d"
  },
  {
   "cell_type": "code",
   "execution_count": 32,
   "outputs": [
    {
     "name": "stdout",
     "output_type": "stream",
     "text": [
      "10\n",
      "20\n",
      "30\n",
      "3\n",
      "exists\n"
     ]
    }
   ],
   "source": [
    "tuple1 = (10,20,30)\n",
    "print(tuple1[0])\n",
    "print(tuple1[1])\n",
    "print(tuple1[2])\n",
    "\n",
    "print(len(tuple1))\n",
    "\n",
    "if 20 in tuple1:\n",
    "    print('exists')\n",
    "else:\n",
    "    print('no exists')"
   ],
   "metadata": {
    "collapsed": false,
    "ExecuteTime": {
     "end_time": "2023-10-30T08:21:30.393956400Z",
     "start_time": "2023-10-30T08:21:30.380599900Z"
    }
   },
   "id": "c800b6c2c9d98a97"
  }
 ],
 "metadata": {
  "kernelspec": {
   "display_name": "Python 3",
   "language": "python",
   "name": "python3"
  },
  "language_info": {
   "codemirror_mode": {
    "name": "ipython",
    "version": 2
   },
   "file_extension": ".py",
   "mimetype": "text/x-python",
   "name": "python",
   "nbconvert_exporter": "python",
   "pygments_lexer": "ipython2",
   "version": "2.7.6"
  }
 },
 "nbformat": 4,
 "nbformat_minor": 5
}
