{
 "cells": [
  {
   "cell_type": "code",
   "execution_count": null,
   "id": "initial_id",
   "metadata": {
    "collapsed": true
   },
   "outputs": [],
   "source": [
    "i = 1\n",
    "while i <= 5 :\n",
    "    print('老婆大人，我错了！')\n",
    "    i += 1"
   ]
  },
  {
   "cell_type": "code",
   "execution_count": null,
   "outputs": [],
   "source": [
    "sum,i = 0,1\n",
    "while i<= 100:\n",
    "    sum +=i\n",
    "    i+=1\n",
    "print(sum)"
   ],
   "metadata": {
    "collapsed": false
   },
   "id": "76ad2f2bbf3ffbc"
  },
  {
   "cell_type": "code",
   "execution_count": null,
   "outputs": [],
   "source": [
    "sum,i = 0,1\n",
    "while i<= 100:\n",
    "    if i%2==0:\n",
    "        sum +=i\n",
    "    i+=1\n",
    "print(sum)"
   ],
   "metadata": {
    "collapsed": false
   },
   "id": "37b28d0e47d5b5ba"
  },
  {
   "cell_type": "code",
   "execution_count": null,
   "outputs": [],
   "source": [
    "sum,i = 0,0\n",
    "while i<= 100:\n",
    "    sum +=i\n",
    "    i+=2\n",
    "print(sum)"
   ],
   "metadata": {
    "collapsed": false
   },
   "id": "9d0e935c266dc097"
  },
  {
   "cell_type": "code",
   "execution_count": null,
   "outputs": [],
   "source": [
    "i = 1\n",
    "while i <= 5:\n",
    "    if i == 4:\n",
    "        print('已经吃饱了，后面的苹果不吃了！')\n",
    "        break\n",
    "    print(f'正在吃第{i}个苹果')\n",
    "    i += 1"
   ],
   "metadata": {
    "collapsed": false
   },
   "id": "f87042d52066516b"
  },
  {
   "cell_type": "code",
   "execution_count": null,
   "outputs": [],
   "source": [
    "i = 1\n",
    "while i <= 5:\n",
    "    if i == 3:\n",
    "        print('不好，有大虫，这个苹果不吃了！')\n",
    "        i+=1\n",
    "        continue\n",
    "    print(f'正在吃第{i}个苹果')\n",
    "    i += 1"
   ],
   "metadata": {
    "collapsed": false
   },
   "id": "fce6e43e795875e1"
  },
  {
   "cell_type": "code",
   "execution_count": null,
   "outputs": [],
   "source": [
    "import random\n",
    "\n",
    "rand_num = random.randint(1,10)\n",
    "\n",
    "i =0 \n",
    "while i < 3:\n",
    "    user_name = int(input('请输入您要猜的数字：'))\n",
    "    if user_name == rand_num:\n",
    "        print('您猜对了！')\n",
    "        break\n",
    "    elif user_name > rand_num:\n",
    "        print('猜大了')\n",
    "    else:\n",
    "        print('猜小了')\n",
    "    i += 1"
   ],
   "metadata": {
    "collapsed": false
   },
   "id": "11ad2db77bf2f8c2"
  },
  {
   "cell_type": "code",
   "execution_count": null,
   "outputs": [],
   "source": [
    "str1 = 'itheima'\n",
    "\n",
    "for i in str1:\n",
    "    print(i)"
   ],
   "metadata": {
    "collapsed": false
   },
   "id": "6f7732542475a188"
  },
  {
   "cell_type": "code",
   "execution_count": null,
   "outputs": [],
   "source": [
    "for i in range(1,6):\n",
    "    print(i)\n",
    "\n",
    "for i in range(2,11,2):\n",
    "    print(i)"
   ],
   "metadata": {
    "collapsed": false
   },
   "id": "bd1cf659364d68e6"
  },
  {
   "cell_type": "code",
   "execution_count": null,
   "outputs": [],
   "source": [
    "str2 = 'itheima'\n",
    "for i in str2:\n",
    "    if i == 'e':\n",
    "        print('遇到e则跳过本次循环，继而进入下一次循环！')\n",
    "        continue\n",
    "    print(i)"
   ],
   "metadata": {
    "collapsed": false
   },
   "id": "a45cc7790ff09c32"
  },
  {
   "cell_type": "code",
   "execution_count": null,
   "outputs": [],
   "source": [
    "cnt = 0\n",
    "for i in range(10):\n",
    "    \n",
    "    if 3-cnt == 0:\n",
    "        break\n",
    "        \n",
    "    username = input('请输入您的用户账号：')\n",
    "    password = input('请输入您的密码：')\n",
    "    cnt += 1\n",
    "    \n",
    "    if username == 'admin':\n",
    "        if password=='admin888':\n",
    "            print('恭喜您，登录成功！')\n",
    "            break\n",
    "        elif cnt<=3:\n",
    "            print('很抱歉，你输入的用户名或密码有误，请重新输入！')\n",
    "            print(f'您还剩余{3-cnt}次登录机会！')\n",
    "        else:\n",
    "            print('您已经密码错误超过3次，请5分钟后再试！')\n",
    "            break\n",
    "    else:\n",
    "        print('很抱歉，你输入的用户名有误，请重新输入！')\n",
    "        print(f'您还剩余{3-cnt}次登录机会！')\n",
    "        "
   ],
   "metadata": {
    "collapsed": false
   },
   "id": "a49d985c8f3f7a03"
  },
  {
   "cell_type": "code",
   "execution_count": null,
   "outputs": [],
   "source": [
    "for i in range(3):\n",
    "    for j in range(3):\n",
    "        print(i,j)"
   ],
   "metadata": {
    "collapsed": false
   },
   "id": "99fed7a536f49aa1"
  },
  {
   "cell_type": "code",
   "execution_count": null,
   "outputs": [],
   "source": [
    "for i in range(5):\n",
    "    for j in range(5):\n",
    "        print('*', end='    ')\n",
    "    print()"
   ],
   "metadata": {
    "collapsed": false
   },
   "id": "775aafa80e25cb37"
  },
  {
   "cell_type": "code",
   "execution_count": null,
   "outputs": [],
   "source": [
    "for i in range(1,6):\n",
    "    for j in range(i):\n",
    "        print('*',end=' ')\n",
    "    print()"
   ],
   "metadata": {
    "collapsed": false
   },
   "id": "ed2a0a51fc65a388"
  },
  {
   "cell_type": "code",
   "execution_count": 26,
   "outputs": [
    {
     "name": "stdout",
     "output_type": "stream",
     "text": [
      "报数同学的数量为39\n"
     ]
    }
   ],
   "source": [
    "count = 0\n",
    "nums = int(input('请输入班级同学的数量：'))\n",
    "\n",
    "for i in range(1,nums+1):\n",
    "    if i%7 ==0 or i%10 ==7:\n",
    "        continue\n",
    "    count += 1\n",
    "print(f'报数同学的数量为{count}')"
   ],
   "metadata": {
    "collapsed": false,
    "ExecuteTime": {
     "end_time": "2023-10-28T09:37:46.184138400Z",
     "start_time": "2023-10-28T09:37:43.932504800Z"
    }
   },
   "id": "cd2c2881503e111"
  }
 ],
 "metadata": {
  "kernelspec": {
   "display_name": "Python 3",
   "language": "python",
   "name": "python3"
  },
  "language_info": {
   "codemirror_mode": {
    "name": "ipython",
    "version": 2
   },
   "file_extension": ".py",
   "mimetype": "text/x-python",
   "name": "python",
   "nbconvert_exporter": "python",
   "pygments_lexer": "ipython2",
   "version": "2.7.6"
  }
 },
 "nbformat": 4,
 "nbformat_minor": 5
}
