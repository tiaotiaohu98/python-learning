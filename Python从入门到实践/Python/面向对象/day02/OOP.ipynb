{
 "cells": [
  {
   "cell_type": "code",
   "execution_count": null,
   "id": "initial_id",
   "metadata": {
    "collapsed": true
   },
   "outputs": [],
   "source": [
    "'''\n",
    "    继承\n",
    "        单继承\n",
    "        多重继承\n",
    "        菱形继承\n",
    "    重写\n",
    "'''\n",
    "\n",
    "\n",
    "class Animal(object):\n",
    "    def __init__(self, name, age):\n",
    "        self.name = name\n",
    "        self.age = age\n",
    "\n",
    "    def eat(self):\n",
    "        print('eat food!')\n",
    "\n",
    "    def drink(self):\n",
    "        print('drink water!')\n",
    "\n",
    "    def call(self):\n",
    "        print('I can call!')\n",
    "\n",
    "\n",
    "class Cat(Animal):\n",
    "    def call(self):\n",
    "        print('i can miao miao')\n",
    "\n",
    "\n",
    "class Dog(Animal):\n",
    "    def call(self):\n",
    "        print('i can wang wang')\n",
    "\n",
    "\n",
    "cat = Cat('加菲猫', 3)\n",
    "cat.eat()\n",
    "cat.drink()\n",
    "cat.call()\n",
    "\n",
    "dog = Dog('史努比', 4)\n",
    "dog.eat()\n",
    "dog.drink()\n",
    "dog.call()\n"
   ]
  },
  {
   "cell_type": "code",
   "execution_count": null,
   "outputs": [],
   "source": [
    "class Animal(object):\n",
    "    def __init__(self, name, age):\n",
    "        self.name = name\n",
    "        self.age = age\n",
    "\n",
    "    def call(self):\n",
    "        print('I can call!')\n",
    "\n",
    "\n",
    "class Dog(Animal):\n",
    "\n",
    "    def __init__(self, name, age, sex):\n",
    "        super().__init__(name, age)\n",
    "        self.sex = sex\n",
    "\n",
    "    def call(self):\n",
    "        print('i can wang wang')\n",
    "\n",
    "\n",
    "dog = Dog('史努比', 4, 'male')\n",
    "dog.call()\n",
    "print(dog.name)\n",
    "print(dog.age)\n",
    "print(dog.sex)\n"
   ],
   "metadata": {
    "collapsed": false
   },
   "id": "70d330b1847ee876"
  },
  {
   "cell_type": "code",
   "execution_count": null,
   "outputs": [],
   "source": [
    "# 多重继承\n",
    "class A(object):\n",
    "    def func_a(self):\n",
    "        print('我是A类中的func_a方法')\n",
    "\n",
    "\n",
    "class B(A):\n",
    "    def func_b(self):\n",
    "        print('我是A类中的func_b方法')\n",
    "\n",
    "\n",
    "class C(B):\n",
    "    pass\n",
    "\n",
    "\n",
    "c = C()\n",
    "c.func_a()\n",
    "c.func_b()"
   ],
   "metadata": {
    "collapsed": false
   },
   "id": "fae668567462c6a1"
  },
  {
   "cell_type": "code",
   "execution_count": 8,
   "outputs": [
    {
     "name": "stdout",
     "output_type": "stream",
     "text": [
      "我是B类中的func_b方法\n"
     ]
    }
   ],
   "source": [
    "'''\n",
    "    多继承\n",
    "        菱形继承问题\n",
    "        通过MRO的方式解决菱形继承的问题\n",
    "        MRO（方法解析顺序）: 先在自身类中查找，没有就按参数列表从前向后查找，若都没有，则到object中查找\n",
    "'''\n",
    "\n",
    "\n",
    "class A(object):\n",
    "    def func(self):\n",
    "        print('我是A类中的func_a方法')\n",
    "\n",
    "\n",
    "class B(A):\n",
    "    def func(self):\n",
    "        print('我是B类中的func_b方法')\n",
    "\n",
    "\n",
    "class C(A):\n",
    "    def func(self):\n",
    "        print('我是C类中的func_c方法')\n",
    "\n",
    "\n",
    "class D(B, C):\n",
    "    def func_d(self):\n",
    "        print('我是D类中的func_d方法')\n",
    "\n",
    "\n",
    "d = D()\n",
    "d.func()"
   ],
   "metadata": {
    "collapsed": false,
    "ExecuteTime": {
     "end_time": "2023-11-03T02:42:03.250796400Z",
     "start_time": "2023-11-03T02:42:03.238791600Z"
    }
   },
   "id": "774adcf7efcdc965"
  }
 ],
 "metadata": {
  "kernelspec": {
   "display_name": "Python 3",
   "language": "python",
   "name": "python3"
  },
  "language_info": {
   "codemirror_mode": {
    "name": "ipython",
    "version": 2
   },
   "file_extension": ".py",
   "mimetype": "text/x-python",
   "name": "python",
   "nbconvert_exporter": "python",
   "pygments_lexer": "ipython2",
   "version": "2.7.6"
  }
 },
 "nbformat": 4,
 "nbformat_minor": 5
}
