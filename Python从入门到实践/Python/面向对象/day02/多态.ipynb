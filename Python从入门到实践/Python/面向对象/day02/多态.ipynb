{
 "cells": [
  {
   "cell_type": "code",
   "execution_count": null,
   "id": "initial_id",
   "metadata": {
    "collapsed": true
   },
   "outputs": [],
   "source": [
    "'''\n",
    "    多态\n",
    "        1、依赖继承\n",
    "        2、子类必须重写父类方法\n",
    "'''\n",
    "\n",
    "\n",
    "class A(object):\n",
    "    def makejuice(self):\n",
    "        print('i can make juice!')\n",
    "\n",
    "\n",
    "class B(A):\n",
    "    def makejuice(self):\n",
    "        print('i can make apple juice!')\n",
    "\n",
    "\n",
    "class C(A):\n",
    "    def makejuice(self):\n",
    "        print('i can make banana juice!')\n",
    "\n",
    "\n",
    "class D(A):\n",
    "    def makejuice(self):\n",
    "        print('i can make orange juice!')\n",
    "\n",
    "\n",
    "# 定义一个公共接口，通过传入的参数不同，返回不同的执行结果\n",
    "def service(obj):\n",
    "    obj.makejuice()\n",
    "\n",
    "\n",
    "# 多态的实现\n",
    "service(B())\n",
    "service(C())\n",
    "service(D())"
   ]
  },
  {
   "cell_type": "code",
   "execution_count": null,
   "outputs": [],
   "source": [
    "# 多态使用案例\n",
    "class Dog(object):\n",
    "    def work(self):\n",
    "        print('working......')\n",
    "        \n",
    "class DrugDog(Dog):\n",
    "    def work(self):\n",
    "        print('缉毒操作！')\n",
    "        \n",
    "class ArmyDog(Dog):\n",
    "    def work(self):\n",
    "        print('追击敌人')\n",
    "        \n",
    "class Person(object):\n",
    "    def run_with_dog(self,obj):\n",
    "        obj.work()\n",
    "        \n",
    "p1 = Person()\n",
    "p1.run_with_dog(ArmyDog())\n",
    "p1.run_with_dog(DrugDog())"
   ],
   "metadata": {
    "collapsed": false
   },
   "id": "3734cc669246113f"
  },
  {
   "cell_type": "code",
   "execution_count": null,
   "outputs": [],
   "source": [
    "class Tool(object):\n",
    "    count = 0\n",
    "    \n",
    "    def __init__(self,name):\n",
    "        self.name = name\n",
    "        Tool.count += 1\n",
    "    \n",
    "t1 = Tool('斧头')\n",
    "t2 = Tool('榔头')\n",
    "\n",
    "print(f'由Tool工具类一共创建{Tool.count}个工具对象')"
   ],
   "metadata": {
    "collapsed": false
   },
   "id": "bf22d8f1b19386c3"
  },
  {
   "cell_type": "code",
   "execution_count": 1,
   "outputs": [
    {
     "name": "stdout",
     "output_type": "stream",
     "text": [
      "由Tool工具类一共创建2个工具对象\n"
     ]
    }
   ],
   "source": [
    "# 类方法\n",
    "class Tool(object):\n",
    "    count = 0\n",
    "    \n",
    "    def __init__(self,name):\n",
    "        self.name = name\n",
    "        Tool.count += 1\n",
    "        \n",
    "    # 定义一个类方法：专门用于获取类属性\n",
    "    @classmethod\n",
    "    def get_count(cls):\n",
    "        print(f'由Tool工具类一共创建{Tool.count}个工具对象')\n",
    "        \n",
    "    \n",
    "t1 = Tool('斧头')\n",
    "t2 = Tool('榔头')\n",
    "\n",
    "Tool.get_count()"
   ],
   "metadata": {
    "collapsed": false,
    "ExecuteTime": {
     "end_time": "2023-11-03T06:40:18.236756200Z",
     "start_time": "2023-11-03T06:40:18.226319100Z"
    }
   },
   "id": "51279bca6ad183ce"
  },
  {
   "cell_type": "code",
   "execution_count": 1,
   "outputs": [
    {
     "name": "stdout",
     "output_type": "stream",
     "text": [
      "--------------------------------------------------------------------------------\n",
      "[1] 添加学生信息\n",
      "[2] 删除学生信息\n",
      "[3] 修改学生信息\n",
      "[4] 查询学生信息\n",
      "--------------------------------------------------------------------------------\n"
     ]
    }
   ],
   "source": [
    "# 静态方法\n",
    "class StudentManager(object):\n",
    "    @staticmethod\n",
    "    def menu():\n",
    "        print('-'*80)\n",
    "        print('[1] 添加学生信息')\n",
    "        print('[2] 删除学生信息')\n",
    "        print('[3] 修改学生信息')\n",
    "        print('[4] 查询学生信息')\n",
    "        print('-'*80)\n",
    "sm = StudentManager()\n",
    "sm.menu()"
   ],
   "metadata": {
    "collapsed": false,
    "ExecuteTime": {
     "end_time": "2023-11-03T04:15:50.662600400Z",
     "start_time": "2023-11-03T04:15:50.653153Z"
    }
   },
   "id": "db5350e445c2790d"
  }
 ],
 "metadata": {
  "kernelspec": {
   "display_name": "Python 3",
   "language": "python",
   "name": "python3"
  },
  "language_info": {
   "codemirror_mode": {
    "name": "ipython",
    "version": 2
   },
   "file_extension": ".py",
   "mimetype": "text/x-python",
   "name": "python",
   "nbconvert_exporter": "python",
   "pygments_lexer": "ipython2",
   "version": "2.7.6"
  }
 },
 "nbformat": 4,
 "nbformat_minor": 5
}
