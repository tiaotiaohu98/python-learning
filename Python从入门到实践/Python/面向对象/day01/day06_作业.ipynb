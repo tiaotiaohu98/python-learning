{
 "cells": [
  {
   "cell_type": "code",
   "execution_count": null,
   "metadata": {},
   "outputs": [],
   "source": [
    "class star(object):\n",
    "    \n",
    "    def __init__(self, star_name, movie):\n",
    "        self.star_name = star_name\n",
    "        self.movie = movie\n",
    "\n",
    "zhou_xing_chi = star('周星驰','功夫')\n",
    "print(zhou_xing_chi.star_name)\n",
    "print(zhou_xing_chi.movie)"
   ]
  },
  {
   "cell_type": "code",
   "execution_count": null,
   "metadata": {},
   "outputs": [],
   "source": [
    "class star(object):\n",
    "    \n",
    "    def __init__(self):\n",
    "        self.star_name = '周星驰'\n",
    "        self.movie = '功夫'\n",
    "\n",
    "zhou_xing_chi = star()\n",
    "print(zhou_xing_chi.star_name)\n",
    "print(zhou_xing_chi.movie)"
   ]
  },
  {
   "cell_type": "code",
   "execution_count": null,
   "metadata": {},
   "outputs": [],
   "source": [
    "class star(object):\n",
    "    \n",
    "    def __init__(self, star_name, movie):\n",
    "        self.star_name = star_name\n",
    "        self.movie = movie\n",
    "        \n",
    "    def playing(self):\n",
    "        print(f'{self.star_name}出演了{self.movie}，非常好看')\n",
    "\n",
    "zhou_xing_chi = star('周星驰','功夫')\n",
    "zhou_xing_chi.playing()"
   ]
  },
  {
   "cell_type": "code",
   "execution_count": null,
   "metadata": {},
   "outputs": [],
   "source": [
    "class star(object):\n",
    "    \n",
    "    def __init__(self, star_name, movie):\n",
    "        self.star_name = star_name\n",
    "        self.movie = movie\n",
    "        \n",
    "    def __str__(self):\n",
    "        return f'{self.star_name}是我的偶像，我非常喜欢他的电影{self.movie}'\n",
    "\n",
    "zhou_xing_chi = star('周星驰','功夫')\n",
    "print(zhou_xing_chi)"
   ]
  },
  {
   "cell_type": "code",
   "execution_count": null,
   "metadata": {},
   "outputs": [],
   "source": [
    "class star(object):\n",
    "    \n",
    "    def __init__(self, star_name, movie):\n",
    "        self.star_name = star_name\n",
    "        self.movie = movie\n",
    "          \n",
    "    def __str__(self):\n",
    "        return f'{self.star_name}是我的偶像，我非常喜欢他的电影{self.movie}'\n",
    "    \n",
    "    def __del__(self):\n",
    "        print(f'我不喜欢{self.star_name}了')\n",
    "\n",
    "zhou_xing_chi = star('周星驰','功夫')\n",
    "print(zhou_xing_chi)"
   ]
  },
  {
   "cell_type": "code",
   "execution_count": null,
   "metadata": {},
   "outputs": [],
   "source": [
    "class star(object):\n",
    "    \n",
    "    def __init__(self, star_name, movie):\n",
    "        self.star_name = star_name\n",
    "        self.movie = movie\n",
    "    \n",
    "    def playing(self):\n",
    "        print(f'{self.star_name}出演了{self.movie}，非常好看')\n",
    "    \n",
    "    def __str__(self):\n",
    "        return f'{self.star_name}是我的偶像，我非常喜欢他的电影{self.movie}'\n",
    "    \n",
    "    def __del__(self):\n",
    "        print(f'{self.star_name}我不再喜欢了')\n",
    "\n",
    "mov = []\n",
    "\n",
    "for i in range(5):\n",
    "    star_name = input('请输入你喜欢的明星：')\n",
    "    movie = input('请输入：')\n",
    "    star1 = star(star_name,movie)\n",
    "    mov.append(star1)\n",
    "\n",
    "for star1 in mov:\n",
    "    star1.playing()\n",
    "    print(star1)"
   ]
  },
  {
   "cell_type": "code",
   "execution_count": null,
   "metadata": {},
   "outputs": [],
   "source": [
    "class moving_furniture(object):\n",
    "    \n",
    "    def __init__(self):\n",
    "        self.house_area = 100\n",
    "        self.house_address = 'xxxxxxx'\n",
    "        self.house_aviliable_area = 100  # 剩余可用面积\n",
    "        self.type = ''\n",
    "        self.area = ''\n",
    "        # 房间内已有物品\n",
    "        self.furniture = []\n",
    "    \n",
    "    def get_aviliable_area(self,area):\n",
    "        self.house_aviliable_area = self.house_aviliable_area - area\n",
    "        return self.house_aviliable_area\n",
    "    \n",
    "    def get_fufurniture(self):\n",
    "        str1 = ''\n",
    "        for i in self.furniture:\n",
    "            str1 = str1 + ','+i\n",
    "        return str1.strip(',')\n",
    "    \n",
    "    def add_furniture(self,type,area):\n",
    "        # 房间剩余面积是否够用\n",
    "        if area <= self.house_aviliable_area:\n",
    "            # 第一次放家具\n",
    "            if len(self.furniture)==0:\n",
    "                print(f'当前房间可用面积为:{self.house_aviliable_area}')\n",
    "                print(f'{type}的面积为:{area}')\n",
    "                self.furniture.append(type)\n",
    "                print(f'ok:已经存放到房间中')\n",
    "            # 其他时候放家具\n",
    "            else:\n",
    "                print(f'当前房间可用面积为:{self.house_aviliable_area} 容纳的物品有: {self.get_fufurniture()}')\n",
    "                print(f'{type}的面积为:{area}')\n",
    "                self.furniture.append(type)\n",
    "                print(f'ok:已经存放到房间中')\n",
    "            # 改变房间剩余面积\n",
    "            self.get_aviliable_area(area)\n",
    "        else:\n",
    "            print(f'当前房间可用面积为:{self.house_aviliable_area}, 容纳的物品有: {self.get_fufurniture()}')\n",
    "            \n",
    "f1 = moving_furniture()\n",
    "f1.add_furniture('床',20)\n",
    "f1.add_furniture('席梦思',30)\n",
    "f1.add_furniture('其他',80)"
   ]
  }
 ],
 "metadata": {
  "kernelspec": {
   "display_name": "jupyterRepo",
   "language": "python",
   "name": "python3"
  },
  "language_info": {
   "codemirror_mode": {
    "name": "ipython",
    "version": 3
   },
   "file_extension": ".py",
   "mimetype": "text/x-python",
   "name": "python",
   "nbconvert_exporter": "python",
   "pygments_lexer": "ipython3",
   "version": "3.10.11"
  },
  "orig_nbformat": 4
 },
 "nbformat": 4,
 "nbformat_minor": 2
}
