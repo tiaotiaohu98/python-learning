{
 "cells": [
  {
   "cell_type": "code",
   "execution_count": 10,
   "metadata": {
    "collapsed": true,
    "ExecuteTime": {
     "end_time": "2023-07-29T05:01:47.849216200Z",
     "start_time": "2023-07-29T05:01:47.843214900Z"
    }
   },
   "outputs": [
    {
     "name": "stdout",
     "output_type": "stream",
     "text": [
      "{'46', '1', '4'}\n",
      "{'s', 'w'}\n",
      "{1, 2, 3, 7, 55}\n",
      "[1, 2, 3, 7, 55]\n",
      "{9}\n",
      "{9}\n",
      "-------并集去重-------\n",
      "{1, 3, 5, 6, 9}\n",
      "{1, 3, 5, 6, 9}\n",
      "--------------------\n",
      "{1, 5}\n",
      "{1, 5}\n",
      "--------------------\n",
      "{1, 3, 5, 6}\n",
      "{1, 3, 5, 6}\n"
     ]
    }
   ],
   "source": [
    "# 建立集合\n",
    "set1 = {\"1\", \"4\", \"46\"}\n",
    "set2 = set(\"sww\")\n",
    "print(set1)\n",
    "print(set2)\n",
    "list1 = [1, 3, 55, 7, 2, 2, 3]\n",
    "list1 = set(list1)\n",
    "print(list1)\n",
    "list1 = list(list1)\n",
    "print(list1)\n",
    "\n",
    "# 交集，并集，差集，对称差集:非(A交B)\n",
    "sport1 = {1, 5, 9}\n",
    "sport2 = {3, 6, 9}\n",
    "print(sport1 & sport2)\n",
    "print(sport1.intersection(sport2))\n",
    "print(\"-------并集去重-------\")\n",
    "print(sport1 | sport2)\n",
    "print(sport1.union(sport2))\n",
    "print(\"--------------------\")\n",
    "print(sport1 - sport2)\n",
    "print(sport1.difference(sport2))\n",
    "print(\"--------------------\")\n",
    "print(sport1 ^ sport2)\n",
    "print(sport1.symmetric_difference(sport2))"
   ]
  },
  {
   "cell_type": "code",
   "execution_count": 12,
   "outputs": [
    {
     "name": "stdout",
     "output_type": "stream",
     "text": [
      "frozenset({65, 1, 2, 3, 5, 33, 6})\n"
     ]
    }
   ],
   "source": [
    "# 冻结集合frozenset\n",
    "# 冻结集合的不可变特性优点是可以用它作字典的键(key)，也可以作为其\n",
    "# 他集合的元素。冻结集合的建立方式是使用frozenset( )函数，冻结集合建\n",
    "# 立完成后，不可使用add( )或remove( )更改冻结集合的内容。但是可以执\n",
    "# 行intersection( )、union( )、difference( )、symmetric_difference( )、\n",
    "# copy( )、issubset( )、issuperset( )、isdisjoint( )等方法。\n",
    "likes = frozenset([1,2,3,5,65,33,6])\n",
    "print(likes)"
   ],
   "metadata": {
    "collapsed": false,
    "ExecuteTime": {
     "end_time": "2023-07-29T05:05:01.005110400Z",
     "start_time": "2023-07-29T05:05:00.983637900Z"
    }
   }
  }
 ],
 "metadata": {
  "kernelspec": {
   "display_name": "Python 3",
   "language": "python",
   "name": "python3"
  },
  "language_info": {
   "codemirror_mode": {
    "name": "ipython",
    "version": 2
   },
   "file_extension": ".py",
   "mimetype": "text/x-python",
   "name": "python",
   "nbconvert_exporter": "python",
   "pygments_lexer": "ipython2",
   "version": "2.7.6"
  }
 },
 "nbformat": 4,
 "nbformat_minor": 0
}
