{
 "cells": [
  {
   "cell_type": "code",
   "execution_count": 10,
   "metadata": {
    "collapsed": true,
    "ExecuteTime": {
     "end_time": "2023-07-29T04:04:37.187762800Z",
     "start_time": "2023-07-29T04:04:37.177762700Z"
    }
   },
   "outputs": [
    {
     "name": "stdout",
     "output_type": "stream",
     "text": [
      "('apple', 'orange', 'banana')\n",
      "2714974556096 2714974556096\n",
      "---------创建新元组修改元组元素-------\n",
      "('apple', 'orange', 'banana', 'zqq')\n",
      "2714974556096 2714996304976\n",
      "<class 'list'>\n",
      "<class 'tuple'> 3\n"
     ]
    }
   ],
   "source": [
    "# tuple 的定义\n",
    "# 索引访问，循环遍历，修改元组元素，切片，len(), max(), min()\n",
    "# 修改元组元素\n",
    "fruits = ('apple', 'orange', 'banana')\n",
    "newfruits = fruits\n",
    "print(newfruits)\n",
    "print(id(fruits),id(newfruits))\n",
    "print(\"---------创建新元组修改元组元素-------\")\n",
    "newfruits = ('apple', 'orange', 'banana', 'zqq')\n",
    "print(newfruits)\n",
    "print(id(fruits),id(newfruits))\n",
    "\n",
    "fruits_list =  list(fruits)\n",
    "print(type(fruits_list))\n",
    "fruits = tuple(fruits_list)\n",
    "print(type(fruits),len(fruits_list))"
   ]
  }
 ],
 "metadata": {
  "kernelspec": {
   "display_name": "Python 3",
   "language": "python",
   "name": "python3"
  },
  "language_info": {
   "codemirror_mode": {
    "name": "ipython",
    "version": 2
   },
   "file_extension": ".py",
   "mimetype": "text/x-python",
   "name": "python",
   "nbconvert_exporter": "python",
   "pygments_lexer": "ipython2",
   "version": "2.7.6"
  }
 },
 "nbformat": 4,
 "nbformat_minor": 0
}
