{
 "cells": [
  {
   "cell_type": "code",
   "execution_count": null,
   "metadata": {
    "collapsed": true
   },
   "outputs": [],
   "source": [
    "# 列表习题\n",
    "# 字符串常用方法\n",
    "# ●  lower( )：将字符串转成小写字。\n",
    "# ●  upper( )：将字符串转成大写字。\n",
    "# ●  title( )：将字符串转成第一个字母大写，其他是小写。\n",
    "# ●  rstrip( )：删除字符串尾端多余的空白。\n",
    "# ●  lstrip( )：删除字符串开始端多余的空白。\n",
    "# ●  strip( )：删除字符串头尾两边多余的空白。\n",
    "# dir( )函数可以列出对象有哪些内置的方法可以使用\n",
    "str = \"111\"\n",
    "# dir(str)\n",
    "\n",
    "list1 = ['wde', ' ', 1, 4]\n",
    "# dir(list1)\n",
    "list1.append(\"dasd\")\n",
    "# list1\n",
    "list2 = [\"22\"]\n",
    "list1 += list2\n",
    "# list1\n",
    "del list1[1]\n",
    "# list1\n",
    "print(len(list1),list1)\n",
    "# max(),min(),sum()操作列表时，列表内容必须为数字\n",
    "# print(max(list1),min(list1),sum(list1))\n",
    "list3=[1,2,8,5,4,0,9]\n",
    "# print(max(list3),min(list3),sum(list3))\n",
    "#  列表切片\n",
    "# list1[3:]\n",
    "# list1[-3:]\n",
    "# print(list1)\n",
    "# list1[::2]\n",
    "# del list2   #删除列表\n",
    "# list2\n",
    "# 添加删除、修改元素\n",
    "# list1.append(\"ssdsd\")\n",
    "# print(list1)\n",
    "# list1.remove(1)\n",
    "# print(list1)\n",
    "# append( )方法是固定在列表末端插入元素，insert( )方法则是可以在任意位置插入元素\n",
    "# 使用pop( )方法删除元素最大的优点是，删除后将弹出所删除的值，使用pop( )时若是未指明所删除元素的位置，一律删除列表末端的元素\n",
    "# remove() 如果列表内有相同的元素，则只删除第一个出现的元素，如果想要删除所有相同的元素，必须使用循环\n",
    "# str = list1.pop(2)\n",
    "# print(str)\n",
    "# list1\n",
    "list1.append(\"dasd\")\n",
    "# list1.remove(\"dasd\")\n",
    "\n",
    "# 反转列表\n",
    "# list1.reverse()\n",
    "# list1\n",
    "# sort( )排序将造成列表元素顺序永久更改；使用sorted()排序可以获得想要的排序结果，我们可以用新列表存储新的排序列表，同时原先列表的顺序将不更改  (列表中数据只能是数字串)\n",
    "# list3.sort(reverse=True)\n",
    "# print(list3)\n",
    "# newlist3 = sorted(list3,reverse=True)\n",
    "# newlist3\n",
    "# index() 返回特定元素内容第一次出现的索引值\n",
    "print(list1)\n",
    "# print(list1.index(\"dasd\"))\n",
    "# print(list1.count(\"dasd\"))\n",
    "str = \"_\"\n",
    "print(str.join(list2))"
   ]
  },
  {
   "cell_type": "code",
   "execution_count": null,
   "outputs": [],
   "source": [
    "# 深复制\n",
    "myLike = [\"java\",\"python\",\"girl\"]\n",
    "friendLike = myLike  # 从设定列表变量相等时，实际只是将列表地址复制给另一个列表变量。\n",
    "print(myLike)\n",
    "print(friendLike)\n",
    "friendLike.append(\"boy\")\n",
    "myLike.append(\"qq\")\n",
    "print(myLike)\n",
    "print(friendLike)\n",
    "print(\"----------浅复制---------\")\n",
    "# 浅复制\n",
    "friendLike = myLike[:]\n",
    "print(myLike)\n",
    "print(friendLike)\n",
    "print(\"----------浅复制后---------\")\n",
    "friendLike.append(\"zqq\")\n",
    "myLike.append(\"wcy\")\n",
    "print(myLike)\n",
    "print(friendLike)\n",
    "# 只要有一个列表更改元素会影响到另一个列表同步更改的复制称深复制(deep copy)\n",
    "# 浅复制(shallow copy) 观念是，执行复制后当一个列表改变后，不会影响另一个列表的内容"
   ],
   "metadata": {
    "collapsed": false
   }
  },
  {
   "cell_type": "code",
   "execution_count": null,
   "outputs": [],
   "source": [
    "# 字符串: 索引访问，切片，len() ,max() min()\n",
    "# 字符串转成列表 list()\n",
    "str = \"I like study\"\n",
    "newstr = list(str)\n",
    "print(newstr)\n",
    "# print(newstr[1:5])\n",
    "# newstr\n",
    "# 字符串本身无法用切片方式更改内容，但是将字符串改为列表后，就可以使用切片更改列表内容\n",
    "print(str)\n",
    "newstr[7:] = 'zqq'\n",
    "newstr = \"\".join(newstr)  # 列表转换为字符串\n",
    "print(newstr)\n",
    "\n",
    "# 分割字符串\n",
    "newList = newstr.split()\n",
    "print(newList,\"\\n\",len(newList))"
   ],
   "metadata": {
    "collapsed": false
   }
  },
  {
   "cell_type": "code",
   "execution_count": null,
   "outputs": [],
   "source": [
    "# in和not in表达式\n",
    "# 判断一个对象是否属于另一个对象\n",
    "print(\"zqq\" in newstr)\n",
    "print(\"study\" in newstr)\n",
    "print(\"zqq\" not in newstr)\n",
    "print(\"zqq\" not in str)\n",
    "\n",
    "# is或is not表达式\n",
    "# 用于比较两个对象是否相同，在此所谓相同并不只是内容相同，而是指对象变量指向相同的内存\n",
    "# is 比较的是对象 ； == 比较的是值\n",
    "print(\"--------is或is not表达式--------\")\n",
    "# friendLike = myLike\n",
    "friendLike = myLike[:]\n",
    "print(myLike is friendLike)\n",
    "print(myLike == friendLike)\n",
    "print(id(myLike),id(friendLike))"
   ],
   "metadata": {
    "collapsed": false
   }
  },
  {
   "cell_type": "code",
   "execution_count": null,
   "outputs": [],
   "source": [
    "# enumerate( )方法可以将iterable类数值的元素 用计数值 与元素 配对方式传回，返回的数据称enumerate对象\n",
    "# __getItem__ 方法可以将对象变为可迭代对象\n",
    "drinks = ['coffee','apple','orange']\n",
    "enumerate_drinks = enumerate(drinks)\n",
    "print(enumerate_drinks,type(enumerate_drinks))\n",
    "print(list(enumerate_drinks))\n",
    "enumerate_drinks = enumerate(drinks,start=7)\n",
    "print(list(enumerate_drinks)[1:2])"
   ],
   "metadata": {
    "collapsed": false
   }
  },
  {
   "cell_type": "code",
   "execution_count": 51,
   "outputs": [
    {
     "name": "stdout",
     "output_type": "stream",
     "text": [
      "[9, 6, 4, 0, 1, 2, 7, 5, 3, 8]\n",
      "[0, 1, 2, 3, 4, 5, 6, 7, 8, 9]\n",
      "[9, 8, 7, 6, 5, 4, 3, 2, 1, 0]\n",
      "['Antarctic', 9, 8, 7, 6, 5, 4, 3, 2, 1, 0, 'Arctic Sea']\n",
      "6.0\n",
      "['Antarctic', 9, 8, 7, 6, 5, 'Chicago', 4, 3, 2, 1, 0, 'Arctic Sea']\n",
      "['Antarctic', 9, 7, 6, 5, 'Chicago', 4, 3, 1, 0, 'Arctic Sea']\n"
     ]
    }
   ],
   "source": [
    "# 1. 请用列表同时用英文列出10个心中想去旅游的地方。\n",
    "# (A)：列出这10个地方。\n",
    "# (B)：反向列出这10个地方。\n",
    "# (C)：由小排到大，同时列出来。\n",
    "# (D)：由大排到小，同时列出来。\n",
    "# (E)：请在第一个位置增加“Antarctic ”，请在最后位置增加“Arctic Sea”。\n",
    "# (F)：请在中央位置增加“Chicago”。\n",
    "# (G)：请分别删除第3和9个元素。\n",
    "areas=[8,3,5,7,2,1,0,4,6,9]\n",
    "# print(len(areas))\n",
    "# for i in enumerate(areas):\n",
    "    # pass\n",
    "    # print(i[1])\n",
    "areas.reverse()\n",
    "print(areas)\n",
    "# sorted(areas)\n",
    "areas.sort()\n",
    "print(areas)\n",
    "areas.sort(reverse=True)\n",
    "print(areas)\n",
    "\n",
    "areas.insert(0,\"Antarctic\")\n",
    "areas.append(\"Arctic Sea\")\n",
    "print(areas)\n",
    "print(len(areas)/2)\n",
    "areas.insert(int(len(areas)/2),\"Chicago\")\n",
    "print(areas)\n",
    "areas.remove(2)\n",
    "areas.remove(8)\n",
    "print(areas)"
   ],
   "metadata": {
    "collapsed": false,
    "ExecuteTime": {
     "end_time": "2023-07-29T03:53:17.934594900Z",
     "start_time": "2023-07-29T03:53:17.922304900Z"
    }
   }
  }
 ],
 "metadata": {
  "kernelspec": {
   "display_name": "Python 3",
   "language": "python",
   "name": "python3"
  },
  "language_info": {
   "codemirror_mode": {
    "name": "ipython",
    "version": 2
   },
   "file_extension": ".py",
   "mimetype": "text/x-python",
   "name": "python",
   "nbconvert_exporter": "python",
   "pygments_lexer": "ipython2",
   "version": "2.7.6"
  }
 },
 "nbformat": 4,
 "nbformat_minor": 0
}
