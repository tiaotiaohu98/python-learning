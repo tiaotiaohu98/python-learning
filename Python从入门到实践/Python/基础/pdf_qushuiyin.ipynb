{
 "cells": [
  {
   "cell_type": "code",
   "execution_count": 1,
   "id": "initial_id",
   "metadata": {
    "collapsed": true,
    "ExecuteTime": {
     "end_time": "2023-10-24T00:34:11.146818700Z",
     "start_time": "2023-10-24T00:34:10.917413Z"
    }
   },
   "outputs": [
    {
     "ename": "ModuleNotFoundError",
     "evalue": "No module named 'PyPDF4'",
     "output_type": "error",
     "traceback": [
      "\u001B[1;31m---------------------------------------------------------------------------\u001B[0m",
      "\u001B[1;31mModuleNotFoundError\u001B[0m                       Traceback (most recent call last)",
      "Cell \u001B[1;32mIn[1], line 2\u001B[0m\n\u001B[0;32m      1\u001B[0m \u001B[38;5;28;01mimport\u001B[39;00m \u001B[38;5;21;01mos\u001B[39;00m\n\u001B[1;32m----> 2\u001B[0m \u001B[38;5;28;01mfrom\u001B[39;00m \u001B[38;5;21;01mPyPDF4\u001B[39;00m \u001B[38;5;28;01mimport\u001B[39;00m PdfFileReader,PdfFileWriter\n\u001B[0;32m      3\u001B[0m output \u001B[38;5;241m=\u001B[39m PdfFileWriter()\n\u001B[0;32m      4\u001B[0m pdf \u001B[38;5;241m=\u001B[39m PdfFileReader(\u001B[38;5;124m\"\u001B[39m\u001B[38;5;124mC:/Users/13283/Desktop/hahaha/output/Drawing1.pdf\u001B[39m\u001B[38;5;124m\"\u001B[39m, \u001B[38;5;124m'\u001B[39m\u001B[38;5;124mrb\u001B[39m\u001B[38;5;124m'\u001B[39m)\n",
      "\u001B[1;31mModuleNotFoundError\u001B[0m: No module named 'PyPDF4'"
     ]
    }
   ],
   "source": [
    "import os\n",
    "from PyPDF4 import PdfFileReader,PdfFileWriter\n",
    "output = PdfFileWriter()\n",
    "pdf = PdfFileReader(\"C:/Users/13283/Desktop/hahaha/output/Drawing1.pdf\", 'rb')\n",
    "pdf1=pdf.getPage(0)\n",
    "pdf1['/Resources']['/XObject']['/Trn3dK9'].clear()\n",
    "output.addPage(pdf1)\n",
    "with open(\"C:/Users/13283/Desktop/hahaha/output/out.pdf\",'wb') as ouf:\n",
    "      output.write(ouf)"
   ]
  },
  {
   "cell_type": "code",
   "execution_count": null,
   "outputs": [],
   "source": [
    "from PIL import Image\n",
    "from itertools import product\n",
    "import fitz\n",
    "\n",
    "\n",
    "# 去除pdf的水印\n",
    "def remove_pdfwatermark():\n",
    "    # 打开源pfd文件\n",
    "    pdf_file = fitz.open(\"./HADOOP.pdf\")\n",
    "\n",
    "    # page_no 设置为0\n",
    "    page_no = 0\n",
    "    # page在pdf文件中遍历\n",
    "    for page in pdf_file:\n",
    "        # 获取每一页对应的图片pix (pix对象类似于我们上面看到的img对象，可以读取、修改它的 RGB)\n",
    "        # page.get_pixmap() 这个操作是不可逆的，即能够实现从 PDF 到图片的转换，但修改图片 RGB 后无法应用到 PDF 上，只能输出为图片\n",
    "        pix = page.get_pixmap()\n",
    "\n",
    "        # 遍历图片中的宽和高，如果像素的rgb值总和大于510，就认为是水印，转换成255，255,255-->即白色\n",
    "        for pos in product(range(pix.width), range(pix.height)):\n",
    "            if sum(pix.pixel(pos[0], pos[1])) >= 510:\n",
    "                pix.set_pixel(pos[0], pos[1], (255, 255, 255))\n",
    "        # 保存去掉水印的截图\n",
    "        pix.pil_save(f\"./{page_no}.png\", dpi=(30000, 30000))\n",
    "        # 打印结果\n",
    "        print(f'第 {page_no} 页去除完成')\n",
    "\n",
    "        page_no += 1\n",
    "\n",
    "\n",
    "# 去除的pdf水印添加到pdf文件中\n",
    "def pictopdf():\n",
    "    # 水印截图所在的文件夹\n",
    "    # pic_dir = input(\"请输入图片文件夹路径：\")\n",
    "    pic_dir = 'F:\\123'\n",
    "\n",
    "    pdf = fitz.open()\n",
    "    # 图片数字文件先转换成int类型进行排序\n",
    "    img_files = sorted(os.listdir(pic_dir), key=lambda x: int(str(x).split('.')[0]))\n",
    "    for img in img_files:\n",
    "        print(img)\n",
    "        imgdoc = fitz.open(pic_dir + '/' + img)\n",
    "        # 将打开后的图片转成单页pdf\n",
    "        pdfbytes = imgdoc.convertToPDF()\n",
    "        imgpdf = fitz.open(\"pdf\", pdfbytes)\n",
    "        # 将单页pdf插入到新的pdf文档中\n",
    "        pdf.insertPDF(imgpdf)\n",
    "    pdf.save(\"HADOOP_完成.pdf\")\n",
    "    pdf.close()\n",
    "\n",
    "\n",
    "if __name__ == '__main__':\n",
    "    remove_pdfwatermark()\n",
    "    pictopdf()"
   ],
   "metadata": {
    "collapsed": false
   },
   "id": "d38a5c68ff462214"
  }
 ],
 "metadata": {
  "kernelspec": {
   "display_name": "Python 3",
   "language": "python",
   "name": "python3"
  },
  "language_info": {
   "codemirror_mode": {
    "name": "ipython",
    "version": 2
   },
   "file_extension": ".py",
   "mimetype": "text/x-python",
   "name": "python",
   "nbconvert_exporter": "python",
   "pygments_lexer": "ipython2",
   "version": "2.7.6"
  }
 },
 "nbformat": 4,
 "nbformat_minor": 5
}
