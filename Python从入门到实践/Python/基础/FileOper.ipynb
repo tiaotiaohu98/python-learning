{
 "cells": [
  {
   "cell_type": "code",
   "execution_count": null,
   "metadata": {
    "collapsed": true
   },
   "outputs": [],
   "source": [
    "with open('pi_digits.txt') as file_object:\n",
    "    contents = file_object.read()\n",
    "\n",
    "print(contents)\n",
    "\n",
    "print(contents.rstrip())"
   ]
  },
  {
   "cell_type": "code",
   "execution_count": 1,
   "outputs": [
    {
     "name": "stdout",
     "output_type": "stream",
     "text": [
      "D:\\AnacondaProjectsRepo\\jupyterRepo\\Python从入门到实践\n",
      "D:\\AnacondaProjectsRepo\\jupyterRepo\n",
      ".\n",
      "True\n",
      "True\n",
      "True\n",
      "False\n",
      "创建成功 sknsciok\n"
     ]
    }
   ],
   "source": [
    "# 文件操作\n",
    "import os\n",
    "currDir = os.getcwd()\n",
    "print(currDir)\n",
    "\n",
    "print(os.path.abspath('..'))\n",
    "\n",
    "print(os.path.relpath(currDir))\n",
    "\n",
    "# 判断文件是否存在\n",
    "print(os.path.exists(currDir))\n",
    "# 判断文件路径是否绝对路径\n",
    "print(os.path.isabs(currDir))\n",
    "# 判断路径是否是目录\n",
    "print(os.path.isdir(currDir))\n",
    "# 判断路径是否是文件\n",
    "print(os.path.isfile(currDir))\n",
    "\n",
    "\n",
    "# 创建目录\n",
    "mydir = 'sknsciok'\n",
    "\n",
    "if os.path.exists(mydir):\n",
    "    print('已经存在 %s' % mydir)\n",
    "else:\n",
    "    os.mkdir(mydir)\n",
    "    print('创建成功 %s'\n",
    "          '' % mydir)"
   ],
   "metadata": {
    "collapsed": false,
    "ExecuteTime": {
     "end_time": "2023-10-20T12:55:02.369119Z",
     "start_time": "2023-10-20T12:55:02.336493Z"
    }
   }
  }
 ],
 "metadata": {
  "kernelspec": {
   "display_name": "Python 3",
   "language": "python",
   "name": "python3"
  },
  "language_info": {
   "codemirror_mode": {
    "name": "ipython",
    "version": 2
   },
   "file_extension": ".py",
   "mimetype": "text/x-python",
   "name": "python",
   "nbconvert_exporter": "python",
   "pygments_lexer": "ipython2",
   "version": "2.7.6"
  }
 },
 "nbformat": 4,
 "nbformat_minor": 0
}
