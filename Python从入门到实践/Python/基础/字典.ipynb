{
 "cells": [
  {
   "cell_type": "code",
   "execution_count": 38,
   "metadata": {
    "collapsed": true,
    "ExecuteTime": {
     "end_time": "2023-07-29T04:23:59.923173700Z",
     "start_time": "2023-07-29T04:23:59.908174600Z"
    }
   },
   "outputs": [
    {
     "name": "stdout",
     "output_type": "stream",
     "text": [
      "zqq\n",
      "{'1': 'zqq', '2': 'wcy', '3': 'zsy'}\n",
      "{'1': 'zqq', '2': 'wcy', '3': 'zy'}\n",
      "{'1': 'zqq', '2': 'wcy'}\n",
      "{'1': 'zqq', '2': 'wcy'}\n",
      "2514631338944 2514631492608\n",
      "True\n",
      "False\n",
      "1 zqq\n",
      "2 wcy\n",
      "3 wcy\n",
      "-----------------\n",
      "1\n",
      "2\n",
      "3\n",
      "-----------------\n",
      "zqq\n",
      "wcy\n",
      "wcy\n",
      "-----------------\n",
      "zqq\n",
      "wcy\n",
      "--------sorted( )对字典排序-------\n",
      "wcy\n",
      "wcy\n",
      "zqq\n"
     ]
    }
   ],
   "source": [
    "# 字典的定义 ,索引获取元素 字典(dict)是一个无序 的数据结构\n",
    "friuts = {\"1\":\"zqq\", \"2\":\"wcy\", \"3\":\"wcy\"}\n",
    "print(friuts[\"1\"])\n",
    "friuts['3'] = \"zsy\"\n",
    "print(friuts)\n",
    "friuts[\"3\"] = 'zy'\n",
    "print(friuts)\n",
    "\n",
    "del friuts[\"3\"]\n",
    "print(friuts)\n",
    "# friuts.clear()\n",
    "# print(friuts)\n",
    "# del friuts\n",
    "# print(friuts)\n",
    "\n",
    "# 字典的复制\n",
    "newfruits = friuts.copy()\n",
    "print(newfruits)\n",
    "# 复制的字典是独立存在新地址的字典\n",
    "print(id(friuts), id(newfruits))\n",
    "print(\"1\" in friuts)\n",
    "print(\"wcy\" in friuts)\n",
    "\n",
    "# 遍历字典\n",
    "friuts = {\"1\":\"zqq\", \"2\":\"wcy\", \"3\":\"wcy\"}\n",
    "for key,value in friuts.items():\n",
    "    print(key, value)\n",
    "print(\"-----------------\")\n",
    "for key in friuts.keys():\n",
    "    print(key)\n",
    "print(\"-----------------\")\n",
    "for value in friuts.values():\n",
    "    print(value)\n",
    "print(\"-----------------\")\n",
    "# 你希望所列出的值不要重复，可以使用集合(set)观念使用set( )函数\n",
    "for value in set(friuts.values()):\n",
    "    print(value)\n",
    "\n",
    "print(\"--------sorted( )对字典排序-------\")\n",
    "for value in sorted(friuts.values()):\n",
    "    print(value)"
   ]
  },
  {
   "cell_type": "code",
   "execution_count": 46,
   "outputs": [
    {
     "name": "stdout",
     "output_type": "stream",
     "text": [
      "{'LC': ['ZQQ', 'WCY'], 'ZQQ': ['ZQ', 'LQ'], 'WCY': 'ZQ', 'zy': {'1': 'lq', '2': 'zq'}}\n",
      "ZQQ\n",
      "WCY\n",
      "ZQ\n",
      "LQ\n",
      "1\n",
      "lq\n",
      "2\n",
      "zq\n"
     ]
    }
   ],
   "source": [
    "# 字典中包含列表和字典  获取元素\n",
    "sports = {\"LC\":[\"ZQQ\",\"WCY\"],\n",
    "          \"ZQQ\":[\"ZQ\",'LQ'],\n",
    "          \"WCY\":\"ZQ\",\n",
    "          \"zy\":{\"1\":'lq',\"2\":\"zq\"}\n",
    "          }\n",
    "print(sports)\n",
    "for key, sports_items in sports.items():\n",
    "    # print(key)\n",
    "    # print(sports_items)\n",
    "    if type(sports_items) is list:\n",
    "        for i in sports_items:\n",
    "            print(i)\n",
    "    if type(sports_items) is dict:\n",
    "        for name, value in sports_items.items():\n",
    "            print(name)\n",
    "            print(value)"
   ],
   "metadata": {
    "collapsed": false,
    "ExecuteTime": {
     "end_time": "2023-07-29T04:33:49.332751300Z",
     "start_time": "2023-07-29T04:33:49.321709800Z"
    }
   }
  },
  {
   "cell_type": "code",
   "execution_count": 64,
   "outputs": [
    {
     "name": "stdout",
     "output_type": "stream",
     "text": [
      "4\n",
      "{'ZQQ': None, 'WCY': None}\n",
      "{'ZQQ': 'lcl', 'WCY': 'lcl'}\n",
      "lcl\n",
      "None\n",
      "{'ZQQ': 'lcl', 'WCY': 'lcl', 'zy': None}\n",
      "{'ZQQ': 'lcl', 'WCY': 'lcl', 'zy': None, 'zsy': 'lcl'}\n",
      "{'ZQQ': 'lcl', 'WCY': 'lcl', 'zy': None}\n",
      "无此key\n"
     ]
    }
   ],
   "source": [
    "# 常用方法 len(), fromkeys(), get(), setdefault(), pop()\n",
    "print(len(sports))\n",
    "seq = [\"ZQQ\",\"WCY\"]\n",
    "mylove = dict.fromkeys(seq)\n",
    "print(mylove)\n",
    "\n",
    "mylove = dict.fromkeys(seq,\"lcl\")\n",
    "print(mylove)\n",
    "\n",
    "love = mylove.get(\"ZQQ\")\n",
    "print(love)\n",
    "love = mylove.get(\"1\");\n",
    "print(love)\n",
    "\n",
    "# setdefault() 搜索字典中是否有传入的key，若没有，则将其加入字典\n",
    "mylove.setdefault(\"zy\")\n",
    "print(mylove)\n",
    "mylove.setdefault('zsy',\"lcl\")\n",
    "print(mylove)\n",
    "\n",
    "mylove.pop(\"zsy\")\n",
    "print(mylove)\n",
    "# mylove.pop(\"1\")\n",
    "# print(mylove)\n",
    "love1 = mylove.pop(\"1\",\"无此key\")\n",
    "print(love1)"
   ],
   "metadata": {
    "collapsed": false,
    "ExecuteTime": {
     "end_time": "2023-07-29T04:48:23.278147600Z",
     "start_time": "2023-07-29T04:48:23.272148400Z"
    }
   }
  }
 ],
 "metadata": {
  "kernelspec": {
   "display_name": "Python 3",
   "language": "python",
   "name": "python3"
  },
  "language_info": {
   "codemirror_mode": {
    "name": "ipython",
    "version": 2
   },
   "file_extension": ".py",
   "mimetype": "text/x-python",
   "name": "python",
   "nbconvert_exporter": "python",
   "pygments_lexer": "ipython2",
   "version": "2.7.6"
  }
 },
 "nbformat": 4,
 "nbformat_minor": 0
}
