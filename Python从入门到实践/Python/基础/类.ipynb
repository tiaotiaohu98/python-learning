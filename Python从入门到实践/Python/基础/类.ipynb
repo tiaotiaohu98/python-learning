{
 "cells": [
  {
   "cell_type": "code",
   "execution_count": 6,
   "metadata": {
    "collapsed": true,
    "ExecuteTime": {
     "end_time": "2023-07-29T05:25:05.979293Z",
     "start_time": "2023-07-29T05:25:05.963129400Z"
    }
   },
   "outputs": [
    {
     "name": "stdout",
     "output_type": "stream",
     "text": [
      "whilie is now sitting.\n",
      "whilie rolled over!\n"
     ]
    }
   ],
   "source": [
    "# 封装\n",
    "# 私有属性和私有方法：类外无法直接访问，必须通过类名.私有属性或私有方法  或者 对象。私有属性或私有方法\n",
    "class Dog:\n",
    "    # '''模拟小狗'''\n",
    "    def __init__(self, name, age):\n",
    "        self.__name = name\n",
    "        self.__age = age\n",
    "        self.__master = \"1\"\n",
    "\n",
    "    def sit(self):\n",
    "        print(f\"{self.__name} is now sitting.\")\n",
    "\n",
    "    def roll_over(self):\n",
    "        print(f\"{self.__name} rolled over!\")\n",
    "\n",
    "\n",
    "# 创建实例\n",
    "mydog = Dog(\"whilie\", 6)\n",
    "\n",
    "# 调用类属性\n",
    "# print(f'My dog name is {mydog.name}')\n",
    "# print(f'My dog is {mydog.age} years old')\n",
    "\n",
    "# 调用类方法\n",
    "mydog.sit()\n",
    "mydog.roll_over()\n",
    "\n"
   ]
  },
  {
   "cell_type": "code",
   "execution_count": 34,
   "outputs": [
    {
     "name": "stdout",
     "output_type": "stream",
     "text": [
      "我是Father的构造函数！\n",
      "我是子类构造函数！\n",
      "我是Mother的构造函数！\n",
      "我是女儿！\n",
      "我是Father的构造函数！\n",
      "我是子类构造函数！\n",
      "我是儿子！\n",
      "None\n",
      "<class '__main__.Daughter'>\n",
      "False\n",
      "True\n"
     ]
    }
   ],
   "source": [
    "# 继承\n",
    "# 基类必须在子类前面\n",
    "# 子类继承了基类的公有属性和方法 并有自己的属性或方法\n",
    "\n",
    "# 基类\n",
    "class Father:\n",
    "    \n",
    "    def __init__(self):\n",
    "        print('我是Father的构造函数！') \n",
    "        \n",
    "    def Print(self):\n",
    "        print('我是爸爸！')\n",
    "\n",
    "    def __Printmother(self):\n",
    "        print('我是妈妈')\n",
    "        \n",
    "    def println(self):\n",
    "        self.__Printmother()\n",
    "        \n",
    "class Mother:\n",
    "    def __init__(self):\n",
    "        print('我是Mother的构造函数！')\n",
    "        \n",
    "    def PrintMother(self):\n",
    "        print('我是妈妈！')\n",
    "\n",
    "class Son(Father):\n",
    "    \n",
    "    def __init__(self):\n",
    "        super().__init__()\n",
    "        print('我是子类构造函数！') \n",
    "        \n",
    "    def sonPrint(self):\n",
    "        print('我是儿子！')\n",
    "        \n",
    "# a = Son()\n",
    "# # 无法直接访问父类的mother方法\n",
    "# a.Print()\n",
    "# a.sonPrint()\n",
    "# \n",
    "# # 通过super()访问父类的公有方法来访问父类的私有方法\n",
    "# a.println()\n",
    "\n",
    "# 多重继承\n",
    "class Daughter(Mother,Father):\n",
    "    \n",
    "    def daughterPrint(self):\n",
    "        print('我是女儿！')\n",
    "        # 调用兄弟的属性或方法\n",
    "        str = Son().sonPrint()\n",
    "        print(str)\n",
    "\n",
    "a = Son()\n",
    "b = Daughter()\n",
    "# b.println()\n",
    "# 当子类继承于多个父类时，super() 函数只可用于调用第一个父类的构造函数，其余父类的构造函数只能使用未绑定的方式调用\n",
    "# b.daughterPrint()\n",
    "\n",
    "# 调用兄弟的属性或方法 \n",
    "b.daughterPrint()\n",
    "\n",
    "\n",
    "print(type(b))\n",
    "print(isinstance(a,Daughter))\n",
    "print(isinstance(a,Son))"
   ],
   "metadata": {
    "collapsed": false,
    "ExecuteTime": {
     "end_time": "2023-10-19T12:31:04.130716200Z",
     "start_time": "2023-10-19T12:31:04.119747300Z"
    }
   }
  },
  {
   "cell_type": "code",
   "execution_count": 1,
   "outputs": [
    {
     "name": "stdout",
     "output_type": "stream",
     "text": [
      "Welcome!\n",
      "Hello, Michael!\n",
      "Hello, Tracy!\n",
      "Hello, Sarah!\n"
     ]
    }
   ],
   "source": [
    "import socket\n",
    "\n",
    "s = socket.socket(socket.AF_INET, socket.SOCK_STREAM)\n",
    "# 建立连接:\n",
    "s.connect(('127.0.0.1', 9999))\n",
    "# 接收欢迎消息:\n",
    "print(s.recv(1024).decode('utf-8'))\n",
    "for data in [b'Michael', b'Tracy', b'Sarah']:\n",
    "    # 发送数据:\n",
    "    s.send(data)\n",
    "    print(s.recv(1024).decode('utf-8'))\n",
    "s.send(b'exit')\n",
    "s.close()"
   ],
   "metadata": {
    "collapsed": false,
    "ExecuteTime": {
     "end_time": "2023-10-30T07:41:48.619340800Z",
     "start_time": "2023-10-30T07:41:45.566674500Z"
    }
   }
  }
 ],
 "metadata": {
  "kernelspec": {
   "display_name": "Python 3",
   "language": "python",
   "name": "python3"
  },
  "language_info": {
   "codemirror_mode": {
    "name": "ipython",
    "version": 2
   },
   "file_extension": ".py",
   "mimetype": "text/x-python",
   "name": "python",
   "nbconvert_exporter": "python",
   "pygments_lexer": "ipython2",
   "version": "2.7.6"
  }
 },
 "nbformat": 4,
 "nbformat_minor": 0
}
