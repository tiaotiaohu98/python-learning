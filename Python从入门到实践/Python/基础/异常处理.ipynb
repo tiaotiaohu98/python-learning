{
 "cells": [
  {
   "cell_type": "code",
   "execution_count": null,
   "id": "initial_id",
   "metadata": {
    "collapsed": true
   },
   "outputs": [],
   "source": [
    "'''\n",
    "    分析单个文件的字数\n",
    "'''\n",
    "def wordsCount(path):\n",
    "    try:\n",
    "        with open(path, encoding='utf-8') as file_obj:\n",
    "            data=file_obj.read()\n",
    "    except FileNotFoundError:\n",
    "        print(\"文件 %s 找不到\" % path)\n",
    "    else:\n",
    "        # data = list(data)\n",
    "        # print(data)\n",
    "        word_list = data.split(',')\n",
    "        print(word_list)\n",
    "        print(path,\"文章字数为：%d\" % len(word_list))\n",
    "        \n",
    "file_1='FileRepo/one_word.txt'\n",
    "wordsCount(file_1)\n",
    "\n",
    "# 分析多个文件的个数\n",
    "file_list=['FileRepo/one_word.txt','FileRepo/one_word1.txt','FileRepo/one_word2.txt']\n",
    "for file in file_list:\n",
    "    wordsCount(file)\n",
    "        "
   ]
  },
  {
   "cell_type": "code",
   "execution_count": null,
   "outputs": [],
   "source": [
    "# 抛出异常\n",
    "\n",
    "def password(pwd):\n",
    "    pwdlen = len(pwd)\n",
    "    if pwdlen < 5:\n",
    "        raise Exception('密码长度不足！！')\n",
    "    if pwdlen > 8:\n",
    "        raise Exception('密码长度超长！！！')\n",
    "    else:\n",
    "        print('密码正确！！')\n",
    "\n",
    "for pwd in ('aaaaaaaaa','aaaaaa','sad'):\n",
    "    try:\n",
    "        password(pwd)\n",
    "    except Exception as err:\n",
    "        print(\"程序异常: \", str(err))"
   ],
   "metadata": {
    "collapsed": false
   },
   "id": "e7c3e4f4f498bc39"
  },
  {
   "cell_type": "code",
   "execution_count": null,
   "outputs": [],
   "source": [
    "# 将错误日志输出到指定日志文文件\n",
    "import traceback\n",
    "\n",
    "def password(pwd):\n",
    "    pwdlen = len(pwd)\n",
    "    if pwdlen < 5:\n",
    "        raise Exception('密码长度不足！！')\n",
    "    if pwdlen > 8:\n",
    "        raise Exception('密码长度超长！！！')\n",
    "    else:\n",
    "        print('密码正确！！')\n",
    "\n",
    "for pwd in ('aaaaaaaaa','aaaaaa','sad'):\n",
    "    try:\n",
    "        password(pwd)\n",
    "    except Exception as err:\n",
    "        errlog = open('FileRepo/Errlog.txt','a') # 读取错误内容\n",
    "        errlog.write(traceback.format_exc())  # 将Traceback日志写入日志文件\n",
    "        errlog.close()\n",
    "        \n",
    "        "
   ],
   "metadata": {
    "collapsed": false
   },
   "id": "906ccfdc9f1eb131"
  },
  {
   "cell_type": "code",
   "execution_count": null,
   "outputs": [],
   "source": [
    "'''\n",
    "    断言(assert) 主要功能是确保程序执行的某个阶段，必须符合一定的条\n",
    "    件，如果不符合这个条件时程序主动抛出异常 ，让程序终止同时主动打印出\n",
    "    异常原因，方便程序设计师侦错\n",
    "'''\n",
    "class Banks():\n",
    "    title = '中国银行'\n",
    "    def __init__(self,uname,money):\n",
    "        self.uname = uname\n",
    "        self.balance = money\n",
    "        \n",
    "    def save_money(self, money):\n",
    "        assert money > 0, '存款必须大于0'\n",
    "        self.balance += money\n",
    "        print('存款:',money,'完成')\n",
    "    \n",
    "    def withdraw_money(self,money):\n",
    "        assert money > 0 , '提款金额必须大于0'\n",
    "        assert money < self.balance , '存款余额不足'\n",
    "        self.balance += money\n",
    "        print('提款: ',money,'完成')\n",
    "    \n",
    "    def get_Balance(self):\n",
    "        print(self.uname.title(),'目前余额为',self.balance)\n",
    "\n",
    "lcl = Banks('lcl',10)\n",
    "lcl.get_Balance()\n",
    "lcl.save_money(1000)\n",
    "lcl.get_Balance()\n",
    "lcl.withdraw_money(-2000000)\n",
    "lcl.withdraw_money(2000000)\n",
    "lcl.get_Balance()"
   ],
   "metadata": {
    "collapsed": false
   },
   "id": "96b1b5c1b7c671d9"
  },
  {
   "cell_type": "code",
   "execution_count": null,
   "outputs": [],
   "source": [
    "import logging\n",
    "\n",
    "# logging.basicConfig(level=logging.DEBUG,format='%(asctime)s')\n",
    "# logging.debug('logging , debug')\n",
    "# logging.info('logging, info')\n",
    "# logging.warning('logging, warning')\n",
    "# logging.error('logging,ERROR')\n",
    "# logging.critical('logging, critical')\n",
    "# print('----------------------------------------------')\n",
    "logging.basicConfig(level=logging.ERROR, format='%(asctime)s : %(massage)s')\n",
    "logging.debug('logging , debug')\n",
    "logging.info('logging, info')\n",
    "logging.warning('logging, warning')\n",
    "logging.error('logging, ERROR')\n",
    "logging.critical('logging, critical')"
   ],
   "metadata": {
    "collapsed": false
   },
   "id": "57cb1712650da391"
  },
  {
   "cell_type": "code",
   "execution_count": null,
   "outputs": [],
   "source": [
    "import logging\n",
    "\n",
    "# logging.basicConfig(level=logging.ERROR, format='%(asctime)s : %(massage)s')\n",
    "logging.debug('logging message, DEBUG')\n",
    "logging.info('logging message, INFO')\n",
    "logging.warning('logging message, WARNING')\n",
    "logging.error('logging message, ERROR')\n",
    "logging.critical('logging message, CRITICAL')"
   ],
   "metadata": {
    "collapsed": false
   },
   "id": "8824df26548a6552"
  },
  {
   "cell_type": "code",
   "execution_count": null,
   "outputs": [],
   "source": [],
   "metadata": {
    "collapsed": false
   },
   "id": "8dc956b5e5336309"
  }
 ],
 "metadata": {
  "kernelspec": {
   "display_name": "Python 3",
   "language": "python",
   "name": "python3"
  },
  "language_info": {
   "codemirror_mode": {
    "name": "ipython",
    "version": 2
   },
   "file_extension": ".py",
   "mimetype": "text/x-python",
   "name": "python",
   "nbconvert_exporter": "python",
   "pygments_lexer": "ipython2",
   "version": "2.7.6"
  }
 },
 "nbformat": 4,
 "nbformat_minor": 5
}
