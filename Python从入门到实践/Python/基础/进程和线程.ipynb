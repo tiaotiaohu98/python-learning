{
 "cells": [
  {
   "cell_type": "code",
   "execution_count": 2,
   "id": "initial_id",
   "metadata": {
    "collapsed": true,
    "ExecuteTime": {
     "end_time": "2023-10-30T07:15:51.559048400Z",
     "start_time": "2023-10-30T07:15:51.473481300Z"
    }
   },
   "outputs": [
    {
     "name": "stdout",
     "output_type": "stream",
     "text": [
      "Parent process 31444.\n",
      "Child process will start.\n",
      "Child process end.\n"
     ]
    }
   ],
   "source": [
    "from multiprocessing import Process\n",
    "import os\n",
    "\n",
    "# 子进程要执行的代码\n",
    "def run_proc(name):\n",
    "    print('Run child process %s (%s)...' % (name, os.getpid()))\n",
    "\n",
    "if __name__=='__main__':\n",
    "    print('Parent process %s.' % os.getpid())\n",
    "    p = Process(target=run_proc, args=('test',))\n",
    "    print('Child process will start.')\n",
    "    p.start()\n",
    "    p.join()\n",
    "    print('Child process end.')"
   ]
  },
  {
   "cell_type": "code",
   "execution_count": 5,
   "outputs": [
    {
     "name": "stdout",
     "output_type": "stream",
     "text": [
      "HTTP/1.1 200 OK\r\n",
      "Accept-Ranges: bytes\r\n",
      "Cache-Control: no-cache\r\n",
      "Content-Length: 9508\r\n",
      "Content-Type: text/html\r\n",
      "Date: Mon, 30 Oct 2023 07:36:18 GMT\r\n",
      "P3p: CP=\" OTI DSP COR IVA OUR IND COM \"\r\n",
      "P3p: CP=\" OTI DSP COR IVA OUR IND COM \"\r\n",
      "Pragma: no-cache\r\n",
      "Server: BWS/1.1\r\n",
      "Set-Cookie: BAIDUID=F1AF66EAA249AC7FB845A51346BF8853:FG=1; expires=Thu, 31-Dec-37 23:55:55 GMT; max-age=2147483647; path=/; domain=.baidu.com\r\n",
      "Set-Cookie: BIDUPSID=F1AF66EAA249AC7FB845A51346BF8853; expires=Thu, 31-Dec-37 23:55:55 GMT; max-age=2147483647; path=/; domain=.baidu.com\r\n",
      "Set-Cookie: PSTM=1698651378; expires=Thu, 31-Dec-37 23:55:55 GMT; max-age=2147483647; path=/; domain=.baidu.com\r\n",
      "Set-Cookie: BAIDUID=F1AF66EAA249AC7F7A8FB5CA9FFD0A91:FG=1; max-age=31536000; expires=Tue, 29-Oct-24 07:36:18 GMT; domain=.baidu.com; path=/; version=1; comment=bd\r\n",
      "Traceid: 169865137815978219628502561342792040007\r\n",
      "Vary: Accept-Encoding\r\n",
      "X-Ua-Compatible: IE=Edge,chrome=1\r\n",
      "Connection: close\n"
     ]
    }
   ],
   "source": [
    "# 导入socket库:\n",
    "import socket\n",
    "\n",
    "# 创建一个socket:\n",
    "s = socket.socket(socket.AF_INET, socket.SOCK_STREAM)\n",
    "# 建立连接:\n",
    "s.connect(('www.baidu.com', 80))\n",
    "\n",
    "# 发送数据:\n",
    "s.send(b'GET / HTTP/1.1\\r\\nHost: www.baidu.com\\r\\nConnection: close\\r\\n\\r\\n')\n",
    "\n",
    "# 接收数据:\n",
    "buffer = []\n",
    "while True:\n",
    "    # 每次最多接收1k字节:\n",
    "    d = s.recv(1024)\n",
    "    if d:\n",
    "        buffer.append(d)\n",
    "    else:\n",
    "        break\n",
    "data = b''.join(buffer)# 关闭连接:\n",
    "s.close()\n",
    "\n",
    "header, html = data.split(b'\\r\\n\\r\\n', 1)\n",
    "print(header.decode('utf-8'))\n",
    "# 把接收的数据写入文件:\n",
    "with open('./sina.html', 'wb') as f:\n",
    "    f.write(html)"
   ],
   "metadata": {
    "collapsed": false,
    "ExecuteTime": {
     "end_time": "2023-10-30T07:36:18.319487200Z",
     "start_time": "2023-10-30T07:36:18.280139800Z"
    }
   },
   "id": "b780da892edcfc0d"
  },
  {
   "cell_type": "code",
   "execution_count": null,
   "outputs": [
    {
     "name": "stdout",
     "output_type": "stream",
     "text": [
      "Waiting for connection...\n",
      "Accept new connection from 127.0.0.1:7473...\n",
      "Connection from 127.0.0.1:7473 closed.\n"
     ]
    }
   ],
   "source": [
    "import time\n",
    "import threading\n",
    "\n",
    "s = socket.socket(socket.AF_INET, socket.SOCK_STREAM)\n",
    "\n",
    "# 监听端口:\n",
    "s.bind(('127.0.0.1', 9999))\n",
    "# 调用listen()方法开始监听端口，传入的参数指定等待连接的最大数量\n",
    "s.listen(5)\n",
    "print('Waiting for connection...')\n",
    "\n",
    "def tcplink(sock, addr):\n",
    "    print('Accept new connection from %s:%s...' % addr)\n",
    "    sock.send(b'Welcome!')\n",
    "    while True:\n",
    "        data = sock.recv(1024)\n",
    "        time.sleep(1)\n",
    "        if not data or data.decode('utf-8') == 'exit':\n",
    "            break\n",
    "        sock.send(('Hello, %s!' % data.decode('utf-8')).encode('utf-8'))\n",
    "    sock.close()\n",
    "    print('Connection from %s:%s closed.' % addr)\n",
    "\n",
    "while True:\n",
    "    # 接受一个新连接:\n",
    "    sock, addr = s.accept()\n",
    "    # 创建新线程来处理TCP连接:\n",
    "    t = threading.Thread(target=tcplink, args=(sock, addr))\n",
    "    t.start()\n",
    "    "
   ],
   "metadata": {
    "collapsed": false,
    "is_executing": true,
    "ExecuteTime": {
     "start_time": "2023-10-30T07:41:40.508890600Z"
    }
   },
   "id": "c0c7ff96f977536e"
  },
  {
   "cell_type": "code",
   "execution_count": null,
   "outputs": [],
   "source": [],
   "metadata": {
    "collapsed": false,
    "ExecuteTime": {
     "end_time": "2023-10-30T07:43:15.530477500Z",
     "start_time": "2023-10-30T07:43:15.520474500Z"
    }
   },
   "id": "9658cb8ca543775b"
  }
 ],
 "metadata": {
  "kernelspec": {
   "display_name": "Python 3",
   "language": "python",
   "name": "python3"
  },
  "language_info": {
   "codemirror_mode": {
    "name": "ipython",
    "version": 2
   },
   "file_extension": ".py",
   "mimetype": "text/x-python",
   "name": "python",
   "nbconvert_exporter": "python",
   "pygments_lexer": "ipython2",
   "version": "2.7.6"
  }
 },
 "nbformat": 4,
 "nbformat_minor": 5
}
