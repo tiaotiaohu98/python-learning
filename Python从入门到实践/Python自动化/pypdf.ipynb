{
 "cells": [
  {
   "cell_type": "code",
   "execution_count": 19,
   "id": "initial_id",
   "metadata": {
    "ExecuteTime": {
     "end_time": "2023-10-27T03:18:13.615106800Z",
     "start_time": "2023-10-27T03:18:13.509798200Z"
    },
    "collapsed": true
   },
   "outputs": [],
   "source": [
    "import PyPDF4\n",
    "# filepath = './resources/HADOOPcopy.pdf'\n",
    "\n",
    "# pdfObj = open(filepath, 'rb')\n",
    "\n",
    "# pdfRd = PyPDF4.PdfFileReader(pdfObj)\n",
    "# print(f'本PDF的页数是：{pdfRd.numPages}')\n",
    "\n",
    "# # 读取PDF的页面内容\n",
    "# pageObj = pdfRd.getPage(9)\n",
    "# txt = pageObj.extractText()\n",
    "# print(txt)\n",
    "\n",
    "\n",
    "# import PyPDF4\n",
    "\n",
    "# 打开PDF文件\n",
    "with open('./resources/HADOOPcopy.pdf', 'rb') as file:\n",
    "    # 创建PDF阅读器对象\n",
    "    reader = PyPDF4.PdfFileReader(file)\n",
    "\n",
    "    # 获取PDF文件中的第一页\n",
    "    page = reader.getPage(1)\n",
    "\n",
    "    # 提取页面文本\n",
    "    text = page.extractText()\n",
    "\n",
    "    # 输出到指定文件\n",
    "    with open('output.txt', 'w', encoding='utf-8') as output_file:\n",
    "        output_file.write(text)"
   ]
  },
  {
   "cell_type": "code",
   "execution_count": null,
   "id": "b401e650",
   "metadata": {},
   "outputs": [],
   "source": [
    "from PIL import Image\n",
    "from itertools import product\n",
    "# import fitz\n",
    "import os\n",
    "\n",
    "\n",
    "# 删除图片\n",
    "def remove_img():\n",
    "    image_file = input(\"请输入图片地址：\")\n",
    " \n",
    "    img = Image.open(image_file)\n",
    "    width, height = img.size\n",
    " \n",
    "    for pos in product(range(width), range(height)):\n",
    "        rgb = img.getpixel(pos)[:3]\n",
    "        print(rgb)\n",
    "\n",
    "# # rgb = img.getpixel(pos)[:3]\n",
    "# if(sum(rgb) >= 620):\n",
    "#     img.putpixel(pos, (255, 255, 255))\n",
    " \n",
    "# img.save('d:/qsy.png')\n",
    "\n",
    "def remove_pdf():\n",
    "    page_num = 0\n",
    "    # pdf_file = input(\"请输入 pdf 地址：\")\n",
    "    pdf_file = './resources/HADOOPcopy.pdf'\n",
    "    pdf = fitz.open(pdf_file);\n",
    "    for page in pdf:\n",
    "        pixmap = page.get_pixmap()\n",
    "        for pos in product(range(pixmap.width), range(pixmap.height)):\n",
    "            rgb = pixmap.pixel(pos[0], pos[1])\n",
    "            if(sum(rgb) >= 620):\n",
    "                pixmap.set_pixel(pos[0], pos[1], (255, 255, 255))\n",
    "        pixmap.pil_save(f\"d:/pdf_images/{page_num}.png\")\n",
    "        print(f\"第{page_num}水印去除完成\")\n",
    "        page_num = page_num + 1\n"
   ]
  }
 ],
 "metadata": {
  "kernelspec": {
   "display_name": "Python 3",
   "language": "python",
   "name": "python3"
  },
  "language_info": {
   "codemirror_mode": {
    "name": "ipython",
    "version": 3
   },
   "file_extension": ".py",
   "mimetype": "text/x-python",
   "name": "python",
   "nbconvert_exporter": "python",
   "pygments_lexer": "ipython3",
   "version": "3.10.11"
  }
 },
 "nbformat": 4,
 "nbformat_minor": 5
}
