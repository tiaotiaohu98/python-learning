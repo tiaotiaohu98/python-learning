{
 "cells": [
  {
   "cell_type": "code",
   "execution_count": 39,
   "id": "initial_id",
   "metadata": {
    "collapsed": true,
    "ExecuteTime": {
     "end_time": "2023-10-26T09:22:54.328298300Z",
     "start_time": "2023-10-26T09:22:54.170226900Z"
    }
   },
   "outputs": [
    {
     "name": "stdout",
     "output_type": "stream",
     "text": [
      "说的话附件是风机的设计符合双方客服反馈\n",
      "\n",
      "是的女地v把你尽快答复保健科大夫不是；‘\n",
      "首都基辅半岛上空劳烦你了可能你看了\n",
      "我是新的第一段落\n",
      "我是第一段落\n",
      "我是第3个段落！！这是第一个run内容这是第二个run内容\n",
      "\n",
      "这是一个新的标题\n",
      "武汉大学\n"
     ]
    }
   ],
   "source": [
    "# import docx  # word第三方库\n",
    "# import PyPDF4  # PDF第三方库\n",
    "# import openpyxl  # excel 第三方库\n",
    "# import csv  # CSV 第三方库\n",
    "\n",
    "'''\n",
    "    整个Word文件被看作是一个document对象\n",
    "    一次Enter键，表示一个新的段落\n",
    "    一个段落被看成一个paragraph对象，所有段落以Paragraph对象列表方式存在\n",
    "    Run对象 表示word文件的一个Paragraph对象相同样式的连续文字；如果文字发生变化，则会生成一个新的Run对象\n",
    "'''\n",
    "import docx\n",
    "\n",
    "filepath = 'resources/2.docx'\n",
    "\n",
    "def get_Document(filepath):\n",
    "    # 建立Document对象\n",
    "    wdoc =  docx.Document(filepath)\n",
    "    \n",
    "    all_paragraphs = wdoc.paragraphs\n",
    "    \n",
    "    paragraph_texts = []\n",
    "    \n",
    "    # 循环读取列表\n",
    "    for paragraph in all_paragraphs:\n",
    "        paragraph_texts.append(paragraph.text)\n",
    "    \n",
    "    return '\\n'.join(paragraph_texts)\n",
    "\n",
    "# print(get_Document(filepath))\n",
    "\n",
    "def save_head(path):\n",
    "    wdoc = docx.Document(path)\n",
    "    \n",
    "    # wdoc.add_heading('武汉大学',level=2)    # 本来的文本中必须有标题一的样式\n",
    "    \n",
    "    wdoc.save(path)\n",
    "    \n",
    "save_head(filepath)\n",
    "\n",
    "# paragraph_texts = get_Document(filepath)\n",
    "# for item in paragraph_texts:\n",
    "#     print(item)\n",
    "    \n",
    "# # 将文本中 '\\n' 去除，然后写入txt文件中查看\n",
    "# with open(filepath[:-4] + 'txt', 'w', encoding='utf-8') as file:\n",
    "#     for item in paragraph_texts:\n",
    "#         if not item:\n",
    "#             continue\n",
    "#         print(item)\n",
    "#         file.write(item.replace(\"\\n\", \"\")+'\\n')\n",
    "# print(len(wdoc.paragraphs))\n",
    "# print(len(wdoc.paragraphs[0].runs))\n",
    "# print(len(wdoc.paragraphs[0].runs[1].text))\n",
    "\n",
    "\n",
    "wdoc = docx.Document(filepath)\n",
    "\n",
    "# wdoc.add_heading('武汉大学',level=2)\n",
    "# ptr=wdoc.add_paragraph('我是第一段落')\n",
    "# ptr.insert_paragraph_before('我是新的第一段落') \n",
    "# wdoc.save(filepath)\n",
    "\n",
    "\n",
    "# print(wdoc.paragraphs[0].text)\n",
    "\n",
    "# ptr = wdoc.add_paragraph('我是第3个段落！！')\n",
    "# ptr.add_run('这是第一个run内容')\n",
    "# ptr.add_run('这是第二个run内容')\n",
    "# wdoc.save(filepath)\n",
    "\n",
    "# 强制换页\n",
    "# wdoc.add_page_break()    # 添加一个分页符\n",
    "# wdoc.add_heading('这是一个新的标题')\n",
    "# wdoc.save(filepath)\n",
    "\n",
    "# 插入图片\n",
    "# from docx.shared import Inches\n",
    "# wdoc.add_picture('resources/1.png',width=Inches(1.0))\n",
    "# wdoc.add_picture('resources/1.png',width=Inches(2.0))\n",
    "# wdoc.save(filepath)\n",
    "\n",
    "print(get_Document(filepath))\n"
   ]
  },
  {
   "cell_type": "code",
   "execution_count": 40,
   "outputs": [
    {
     "name": "stdout",
     "output_type": "stream",
     "text": [
      "说的话附件是风机的设计符合双方客服反馈\n",
      "\n",
      "是的女地v把你尽快答复保健科大夫不是；‘\n",
      "首都基辅半岛上空劳烦你了可能你看了\n",
      "我是新的第一段落\n",
      "我是第一段落\n",
      "我是第3个段落！！这是第一个run内容这是第二个run内容\n",
      "\n",
      "这是一个新的标题\n",
      "武汉大学\n",
      "\n",
      "\n"
     ]
    }
   ],
   "source": [
    "import docx\n",
    "\n",
    "filepath = 'resources/2.docx'\n",
    "\n",
    "def get_Document(filepath):\n",
    "    # 建立Document对象\n",
    "    wdoc =  docx.Document(filepath)\n",
    "    \n",
    "    all_paragraphs = wdoc.paragraphs\n",
    "    \n",
    "    paragraph_texts = []\n",
    "    \n",
    "    # 循环读取列表\n",
    "    for paragraph in all_paragraphs:\n",
    "        paragraph_texts.append(paragraph.text)\n",
    "    \n",
    "    return '\\n'.join(paragraph_texts)\n",
    "\n",
    "wdoc = docx.Document(filepath)\n",
    "\n",
    "# 建立表格\n",
    "table = wdoc.add_table(rows=4,cols=4)\n",
    "row = table.rows[0]\n",
    "row.cells[0].text='书名'\n",
    "row.cells[1].text='我的著作'\n",
    "\n",
    "row = table.rows[1]\n",
    "row.cells[0].text='ddsds'\n",
    "row.cells[1].text='Python基础入门'\n",
    "\n",
    "wdoc.save(filepath)\n",
    "\n",
    "print(get_Document(filepath))\n"
   ],
   "metadata": {
    "collapsed": false,
    "ExecuteTime": {
     "end_time": "2023-10-26T09:54:08.338171500Z",
     "start_time": "2023-10-26T09:54:08.175237300Z"
    }
   },
   "id": "b915b04d9b3f8704"
  }
 ],
 "metadata": {
  "kernelspec": {
   "display_name": "Python 3",
   "language": "python",
   "name": "python3"
  },
  "language_info": {
   "codemirror_mode": {
    "name": "ipython",
    "version": 2
   },
   "file_extension": ".py",
   "mimetype": "text/x-python",
   "name": "python",
   "nbconvert_exporter": "python",
   "pygments_lexer": "ipython2",
   "version": "2.7.6"
  }
 },
 "nbformat": 4,
 "nbformat_minor": 5
}
