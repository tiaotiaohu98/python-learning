{
 "cells": [
  {
   "cell_type": "code",
   "execution_count": null,
   "id": "initial_id",
   "metadata": {
    "collapsed": true
   },
   "outputs": [],
   "source": [
    "# pands学习\n",
    "'''\n",
    "    数据结构\n",
    "        1、DataFrame\n",
    "        2、Series\n",
    "'''\n",
    "\n",
    "import pandas as pd\n",
    "\n",
    "# 读取数据\n",
    "df = pd.read_csv('./data/1960-2019全球GDP数据.csv', encoding='gbk')\n",
    "\n",
    "# 查询数据\n",
    "china_gdp = df[df.country=='中国']\n",
    "china_gdp.head(100)   # 显示前10条数据\n",
    "\n",
    "# 数据可视化\n",
    "china_gdp = china_gdp.set_index('year')\n",
    "china_gdp.GDP.plot()"
   ]
  },
  {
   "cell_type": "code",
   "execution_count": null,
   "outputs": [],
   "source": [
    "# 获取美国的GDP数据\n",
    "US_GDP = df[df.country=='美国']\n",
    "US_GDP.tail(100)\n",
    "\n",
    "# 数据可视化\n",
    "US_GDP = US_GDP.set_index('year')\n",
    "US_GDP.GDP.plot()"
   ],
   "metadata": {
    "collapsed": false
   },
   "id": "f4edec748ca8761c"
  },
  {
   "cell_type": "code",
   "execution_count": null,
   "outputs": [],
   "source": [
    "df.head()"
   ],
   "metadata": {
    "collapsed": false
   },
   "id": "f6b137d93582aff5"
  },
  {
   "cell_type": "code",
   "execution_count": null,
   "outputs": [],
   "source": [
    "# Series对象\n",
    "s1 = pd.Series([1,2,3])\n",
    "print(s1)\n",
    "\n",
    "# 使用自定义索引\n",
    "s2 = pd.Series([1,2,3],index = ['A','B','C'])\n",
    "print(s2)\n",
    "\n",
    "# 使用元组\n",
    "data = (1,2,3,4,5,6)\n",
    "s3 = pd.Series(data)\n",
    "print(s3)\n",
    "\n",
    "# 使用字典\n",
    "dict_data = {'A':1,'B':2,'C':3,'D':4}\n",
    "s4 = pd.Series(dict_data)\n",
    "print(s4)"
   ],
   "metadata": {
    "collapsed": false
   },
   "id": "73edd4039a234995"
  },
  {
   "cell_type": "code",
   "execution_count": null,
   "outputs": [],
   "source": [
    "# Series 常用API\n",
    "s5 = pd.Series([i for i in range(6)],index=[i for i in 'ABCDEF'])\n",
    "print(s5)\n",
    "\n",
    "print('-'*80)\n",
    "# 查看对象有多少值\n",
    "print(len(s5))\n",
    "print('-'*80)\n",
    "\n",
    "# 查看对象的形状\n",
    "print(s5.shape)\n",
    "print('-'*80)\n",
    "\n",
    "# 查看数据类型\n",
    "print(s5.dtype)\n",
    "print(s5.dtypes)\n",
    "print('-'*80)\n",
    "\n",
    "# 将对象转换为list\n",
    "s5.to_list()\n",
    "print(s5)\n",
    "print(type(s5))\n",
    "print('-'*80)\n",
    "\n",
    "# 输出对象的值\n",
    "print(s5.values)\n",
    "print(s5.index)\n",
    "print('-'*80)\n",
    "\n",
    "# 将对象的值转换为列表\n",
    "print(s5.values.tolist())\n",
    "print('-'*80)"
   ],
   "metadata": {
    "collapsed": false
   },
   "id": "531623c9e4133b97"
  },
  {
   "cell_type": "code",
   "execution_count": null,
   "outputs": [],
   "source": [
    "# # 遍历对象，返回每一个值\n",
    "# for i in s5:\n",
    "#     print(i)\n",
    "\n",
    "# 下标获取具体的值\n",
    "print(s5['B'])\n",
    "\n",
    "# 获取对象索引\n",
    "print(s5.index)\n",
    "\n",
    "# # 对象中数据的基础统计信息\n",
    "# print(s5.describe())\n",
    "# \n",
    "# # series 对象转换为df对象\n",
    "# s5.to_frame()\n",
    "# s5.reset_index()\n",
    "# print(s5)"
   ],
   "metadata": {
    "collapsed": false
   },
   "id": "20927c622238e671"
  },
  {
   "cell_type": "code",
   "execution_count": null,
   "outputs": [],
   "source": [
    "# series对象的运算\n",
    "# 与数字进行计算时，每一行逐行计算（相当与向量与数字运算）\n",
    "print(s5*5)\n",
    "\n",
    "# 两个Series对象进行运算，相当于向量运算,索引相同的行进行计算；索引不同的计算后会填充NaN\n",
    "s6 = s5\n",
    "print(s6)\n",
    "print((s5*3+s6)//2)\n",
    "\n",
    "print(s4)\n",
    "print(s5+s4)"
   ],
   "metadata": {
    "collapsed": false
   },
   "id": "4a9028e6a9ab3a01"
  },
  {
   "cell_type": "code",
   "execution_count": null,
   "outputs": [],
   "source": [
    "# Dataframe对象\n",
    "df1_data = [('2021-08-21', 25, 81),('2021-08-22', 26, 50),('2021-08-23', 27, 56)]\n",
    "\n",
    "df1 = pd.DataFrame(\n",
    "    data = df1_data,\n",
    "    columns=['日期','温度','湿度'],\n",
    "    index = ['row_1','row_2','row_3']\n",
    ")\n",
    "print(df1)\n",
    "print(df1[df1.index=='row_2'])\n"
   ],
   "metadata": {
    "collapsed": false
   },
   "id": "319243f06e74da5d"
  },
  {
   "cell_type": "code",
   "execution_count": null,
   "outputs": [],
   "source": [
    "# 返回df的长度\n",
    "print(len(df1))\n",
    "\n",
    "# 返回df中的数据个数\n",
    "print(df1.size)\n",
    "print(df.size)\n",
    "\n",
    "# 返回行数和列数\n",
    "print(df.shape)\n",
    "\n",
    "# 返回列名及该列的数据类型\n",
    "print(df.dtypes)\n",
    "print(df.columns)\n",
    "for i in df:\n",
    "    print(i)\n",
    "\n",
    "# 返回所有数据\n",
    "print(df.values)\n",
    "\n",
    "# 返回行\n",
    "print(df.index)\n",
    "# 前5行\n",
    "df.head(5)\n",
    "# 后五行\n",
    "df.tail(5)\n",
    "\n",
    "# 返回df的基本信息：索引、各列名称、数据数量、数据类型\n",
    "print(df.info)\n",
    "\n",
    "# 返回df的基本统计信息\n",
    "print(df.describe())\n",
    "\n",
    "# 返回df中全部列的基本统计信息\n",
    "df.describe(include='all')"
   ],
   "metadata": {
    "collapsed": false
   },
   "id": "84abe69bf163b1e3"
  },
  {
   "cell_type": "code",
   "execution_count": null,
   "outputs": [],
   "source": [
    "'''\n",
    "    # DataFrame对象的运算\n",
    "    数值运算：每个元素会和数值进行运算，数据存在非数值类型数据时，不能做加减法乘法运算\n",
    "    DataFrame之间运算：根据索引值进行对应计算，索引不能对应时，不匹配的会填充NaN \n",
    "        索引相同(字符型数据乘法会进行复制或加法进行拼接；其他运算符报错)\n",
    "'''\n",
    "\n",
    "# 数值运算\n",
    "# print(df1)\n",
    "# print(df1 + 1)  #会报错，str类型不能做加减法运算\n",
    "# print(df1 - 1)  #会报错，str类型不能做加减法运算\n",
    "# print(df1 * 2)\n",
    "# print(df1 % 2)      # 会报错\n",
    "# print(df1 / 2)      # 会报错\n",
    "\n",
    "\n",
    "# DataFrame之间运算\n",
    "print(df1 * 2)\n",
    "print(df1 * 2 + df1)\n",
    "print(df1 * 2 * df1)\n",
    "print(df + df1)\n"
   ],
   "metadata": {
    "collapsed": false
   },
   "id": "f299f7ec9a3862b8"
  },
  {
   "cell_type": "markdown",
   "source": [
    "![](./data/img.png)"
   ],
   "metadata": {
    "collapsed": false
   },
   "id": "3aeb85b04e0937e6"
  },
  {
   "cell_type": "markdown",
   "source": [],
   "metadata": {
    "collapsed": false
   },
   "id": "b605aa7fad717dc8"
  }
 ],
 "metadata": {
  "kernelspec": {
   "display_name": "Python 3",
   "language": "python",
   "name": "python3"
  },
  "language_info": {
   "codemirror_mode": {
    "name": "ipython",
    "version": 2
   },
   "file_extension": ".py",
   "mimetype": "text/x-python",
   "name": "python",
   "nbconvert_exporter": "python",
   "pygments_lexer": "ipython2",
   "version": "2.7.6"
  }
 },
 "nbformat": 4,
 "nbformat_minor": 5
}
