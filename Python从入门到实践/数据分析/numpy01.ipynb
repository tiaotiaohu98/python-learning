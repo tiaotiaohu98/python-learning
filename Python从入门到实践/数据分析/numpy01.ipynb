{
 "cells": [
  {
   "cell_type": "code",
   "execution_count": null,
   "id": "initial_id",
   "metadata": {
    "collapsed": true
   },
   "outputs": [],
   "source": [
    "import numpy as np\n",
    "\n",
    "a = np.array([1, 2, 3, 4])\n",
    "b = np.array((5, 6, 7, 8))\n",
    "c = np.array([[1, 2, 3, 4], [4, 5, 6, 7], [7, 8, 9, 10]])\n",
    "\n",
    "print(a,b)\n",
    "print(c)\n",
    "\n",
    "print(a.shape)\n",
    "print(b.shape)\n",
    "print(c.shape)"
   ]
  },
  {
   "cell_type": "code",
   "execution_count": null,
   "outputs": [],
   "source": [
    "a1 = np.arange(0, 1, 0.1)\n",
    "print(a1)\n",
    "\n",
    "a2 = np.linspace(0, 1, 10, endpoint=False)\n",
    "print(a2)\n",
    "a3 = np.linspace(0, 1, 11, endpoint=True)\n",
    "print(a3)\n",
    "\n"
   ],
   "metadata": {
    "collapsed": false
   },
   "id": "68daaf9b096dcfad"
  },
  {
   "cell_type": "code",
   "execution_count": null,
   "outputs": [],
   "source": [
    "s = \"abcdefgh\"\n",
    "s1 = np.fromstring(s, dtype=np.int8)\n",
    "print(s1)"
   ],
   "metadata": {
    "collapsed": false
   },
   "id": "c5a935f397b7c679"
  },
  {
   "cell_type": "code",
   "execution_count": null,
   "outputs": [],
   "source": [
    "import numpy as np \n",
    "a = np.array([1,2,3])  \n",
    "print (a)\n",
    "\n",
    "# 多于一个维度  \n",
    "import numpy as np \n",
    "a = np.array([[1,  2],  [3,  4]])  \n",
    "print (a)\n",
    "\n",
    "# 最小维度  \n",
    "import numpy as np \n",
    "a = np.array([1, 2, 3, 4, 5], ndmin =  2)  \n",
    "print (a)\n",
    "\n",
    "# dtype 参数  \n",
    "import numpy as np \n",
    "a = np.array([1,  2,  3], dtype = complex)  \n",
    "print (a)"
   ],
   "metadata": {
    "collapsed": false
   },
   "id": "3077d69624904d3"
  },
  {
   "cell_type": "code",
   "execution_count": null,
   "outputs": [],
   "source": [
    "dict1 = {}\n",
    "dict1['name'] = 'Iphone 15 pro'\n",
    "dict1['price'] = 8699.00\n",
    "\n",
    "print(dict1)\n",
    "\n",
    "dict1['price'] = 998.00\n",
    "print(dict1)"
   ],
   "metadata": {
    "collapsed": false
   },
   "id": "2bbd300abdfc9455"
  },
  {
   "cell_type": "code",
   "execution_count": null,
   "outputs": [],
   "source": [
    "book = {'title':'MYSQL从入门到精通','author':'itheima', 'price':'56.98'}\n",
    "print(book['title'])\n",
    "print(book['author'])\n",
    "print(book['price'])\n",
    "print('-'* 40)\n",
    "for key in book.keys():\n",
    "    print(key)\n",
    "    \n",
    "print('-'*40)\n",
    "\n",
    "for value in book.values():\n",
    "    print(value)\n",
    "    \n",
    "print('-'*40)\n",
    "\n",
    "for k,v in book.items():\n",
    "    print(k,v)"
   ],
   "metadata": {
    "collapsed": false
   },
   "id": "1974dacfa5205d85"
  },
  {
   "cell_type": "code",
   "execution_count": null,
   "outputs": [],
   "source": [
    "dict1 = {'鲁迅':'我没有说过这句话'}\n",
    "print(dict1['鲁迅'])\n",
    "\n",
    "stu_dict = []\n",
    "\n",
    "# 姓名，年龄和爱好\n",
    "name = input('请输入姓名:')\n",
    "age = input('请输入年龄:')\n",
    "hobby = input('请输入爱好:')\n",
    "stu_dict.append(name)\n",
    "stu_dict.append(age)\n",
    "stu_dict.append(hobby)\n",
    "print(stu_dict)\n",
    "\n",
    "words = \"abcdefghi\"\n",
    "\n",
    "print(words[2:7:2])\n"
   ],
   "metadata": {
    "collapsed": false
   },
   "id": "cecbc7e78e7debc5"
  },
  {
   "cell_type": "code",
   "execution_count": 3,
   "outputs": [
    {
     "name": "stdout",
     "output_type": "stream",
     "text": [
      "alisi\n",
      "alisi\n",
      "('alisi',)\n",
      "5\n",
      "[0, 4, 11, 16, 23, 34, 45, 51, 90]\n",
      "('tom', 'kaisa', 'alisi', ['xiaoming', 'songshu', 'python'])\n"
     ]
    }
   ],
   "source": [
    "tuple1 = (\"tom\",\"kaisa\",\"alisi\",\"xiaoming\",\"songshu\")\n",
    "\n",
    "print(tuple1[2])\n",
    "\n",
    "for i in tuple1:\n",
    "     if i=='alisi':\n",
    "         print(i)\n",
    "str1 =  tuple1[2:3]\n",
    "print(str1)\n",
    "\n",
    "tuple1 = (\"tom\",\"kaisa\",\"alisi\",\"xiaoming\",\"songshu\")\n",
    "print(len(tuple1))\n",
    "\n",
    "james = 'hello python'\n",
    "james.find('python')\n",
    "\n",
    "list1 = [11, 45, 34, 51, 90]\n",
    "list2 = [4, 16, 23, 0, 11]\n",
    "\n",
    "list3 = list(set(list1+list2))\n",
    "list3.sort()\n",
    "print(list3)\n",
    "\n",
    "namelist =[\"tom\",\"kaisa\",\"alisi\",[\"xiaoming\",\"songshu\"]]\n",
    "namelist[3].append('python')\n",
    "namelist = tuple(namelist)\n",
    "print(namelist)\n",
    "\n",
    "\n"
   ],
   "metadata": {
    "collapsed": false,
    "ExecuteTime": {
     "end_time": "2023-10-30T13:10:28.008484Z",
     "start_time": "2023-10-30T13:10:27.988485300Z"
    }
   },
   "id": "bfd41da8d473e35"
  },
  {
   "cell_type": "code",
   "execution_count": 5,
   "outputs": [
    {
     "name": "stdout",
     "output_type": "stream",
     "text": [
      "6\n",
      "5\n",
      "4\n",
      "3\n",
      "2\n",
      "1\n",
      "0\n"
     ]
    }
   ],
   "source": [
    "for i in range(6,-1,-1):\n",
    "    print(i)"
   ],
   "metadata": {
    "collapsed": false,
    "ExecuteTime": {
     "end_time": "2023-10-30T13:11:33.389773300Z",
     "start_time": "2023-10-30T13:11:33.342774600Z"
    }
   },
   "id": "e706a0c04dd862e"
  }
 ],
 "metadata": {
  "kernelspec": {
   "display_name": "Python 3",
   "language": "python",
   "name": "python3"
  },
  "language_info": {
   "codemirror_mode": {
    "name": "ipython",
    "version": 2
   },
   "file_extension": ".py",
   "mimetype": "text/x-python",
   "name": "python",
   "nbconvert_exporter": "python",
   "pygments_lexer": "ipython2",
   "version": "2.7.6"
  }
 },
 "nbformat": 4,
 "nbformat_minor": 5
}
