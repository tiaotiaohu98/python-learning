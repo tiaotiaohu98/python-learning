{
 "cells": [
  {
   "cell_type": "code",
   "execution_count": null,
   "id": "c29bc88e",
   "metadata": {},
   "outputs": [],
   "source": [
    "'''\n",
    "一辆卡车违反交通规则，撞人后逃跑。现场有三人\n",
    "目击该事件，但都没有记住车号，只记下了车号的一些\n",
    "特征。甲说：牌照的前两位数字是相同的；乙说：牌照\n",
    "的后两位数字是相同的，但与前两位不同；丙是数学\n",
    "家，他说：4位的车号刚好是一个整数的平方。请根据以\n",
    "上线索求出车号。\n",
    "\n",
    "'''\n",
    "# xx_z...yy\n",
    "# "
   ]
  }
 ],
 "metadata": {
  "kernelspec": {
   "display_name": "Python 3 (ipykernel)",
   "language": "python",
   "name": "python3"
  },
  "language_info": {
   "codemirror_mode": {
    "name": "ipython",
    "version": 3
   },
   "file_extension": ".py",
   "mimetype": "text/x-python",
   "name": "python",
   "nbconvert_exporter": "python",
   "pygments_lexer": "ipython3",
   "version": "3.9.13"
  }
 },
 "nbformat": 4,
 "nbformat_minor": 5
}
