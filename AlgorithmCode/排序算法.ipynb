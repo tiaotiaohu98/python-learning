{
 "cells": [
  {
   "cell_type": "code",
   "execution_count": 43,
   "id": "initial_id",
   "metadata": {
    "collapsed": true,
    "ExecuteTime": {
     "end_time": "2023-10-21T04:00:47.426078600Z",
     "start_time": "2023-10-21T04:00:47.418079900Z"
    }
   },
   "outputs": [
    {
     "data": {
      "text/plain": "[999, 67, 45, 33, 19, 6, 2, 1, 0, 0, -2, -3]"
     },
     "execution_count": 43,
     "metadata": {},
     "output_type": "execute_result"
    }
   ],
   "source": [
    "# 选择排序\n",
    "'''\n",
    "    从大到小排序\n",
    "    1、遍历数组，找到最大的元素，将其插入到新的数组中\n",
    "    2、再次遍历，找到第二大的元素，插入到新数组的后面\n",
    "    3、依次遍历N次, 直到所有的元素都被插入到新数组中\n",
    "'''\n",
    "arr=[1,33,45,67,-2,6,0,-8,2,-3,19,0,999]\n",
    "def chooseSort(arr):\n",
    "    newArr=[]\n",
    "    for i in range(0,len(arr)-1):\n",
    "        maxindex = maxIndex(arr)\n",
    "        newArr.append(arr.pop(maxindex)) # 添加到新数组 删除原数组的值\n",
    "    return newArr\n",
    "\n",
    "# 最大索引\n",
    "def maxIndex(arr):\n",
    "    max_num=-999999999999\n",
    "    max_index=-9999999999999\n",
    "    l = len(arr)\n",
    "    for j in range(0,l):\n",
    "        if arr[j] >= max_num:\n",
    "            max_num= arr[j]\n",
    "            max_index = j\n",
    "    return max_index\n",
    "        \n",
    "chooseSort(arr)"
   ]
  },
  {
   "cell_type": "code",
   "execution_count": null,
   "outputs": [],
   "source": [],
   "metadata": {
    "collapsed": false
   },
   "id": "909a640e4f1d1e55"
  }
 ],
 "metadata": {
  "kernelspec": {
   "display_name": "Python 3",
   "language": "python",
   "name": "python3"
  },
  "language_info": {
   "codemirror_mode": {
    "name": "ipython",
    "version": 2
   },
   "file_extension": ".py",
   "mimetype": "text/x-python",
   "name": "python",
   "nbconvert_exporter": "python",
   "pygments_lexer": "ipython2",
   "version": "2.7.6"
  }
 },
 "nbformat": 4,
 "nbformat_minor": 5
}
