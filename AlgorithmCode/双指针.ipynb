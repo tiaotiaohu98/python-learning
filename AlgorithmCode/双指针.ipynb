{
 "cells": [
  {
   "cell_type": "code",
   "execution_count": 51,
   "id": "initial_id",
   "metadata": {
    "collapsed": true,
    "ExecuteTime": {
     "end_time": "2023-10-19T06:38:44.012992300Z",
     "start_time": "2023-10-19T06:38:44.003139100Z"
    }
   },
   "outputs": [
    {
     "data": {
      "text/plain": "[0, 0, 0, 0, 1, 1]"
     },
     "execution_count": 51,
     "metadata": {},
     "output_type": "execute_result"
    }
   ],
   "source": [
    "# 给定一个包含红色、白色和蓝色，一共n个元素的数组，原地对它们进行排序，使得相同颜色的元素相邻，并按照红色、白色、蓝色顺序排列。\n",
    "# 红 0 白 1 蓝 2\n",
    "\n",
    "nums = [0, 2, 1, 0, 1, 0]\n",
    "\n",
    "def sort(lists):\n",
    "    left,key,right = 0,0, len(lists) - 1\n",
    "    while True:\n",
    "        if key>len(lists)-1:\n",
    "            break\n",
    "        \n",
    "        if lists[key]==0:\n",
    "            lists[key],lists[left] = lists[left],lists[key]\n",
    "            left += 1\n",
    "            key += 1\n",
    "        elif lists[key]==1:\n",
    "            key += 1\n",
    "        elif lists[key]==2:\n",
    "            lists[key],lists[right] = lists[right],lists[right]\n",
    "            right -= 1\n",
    "            \n",
    "    return lists\n",
    "\n",
    "sort(nums)\n"
   ]
  },
  {
   "cell_type": "code",
   "execution_count": 52,
   "outputs": [
    {
     "name": "stdout",
     "output_type": "stream",
     "text": [
      "3 2\n"
     ]
    }
   ],
   "source": [
    "a=2\n",
    "b=3\n",
    "a,b=b,a\n",
    "print(a,b)"
   ],
   "metadata": {
    "collapsed": false,
    "ExecuteTime": {
     "end_time": "2023-10-19T06:41:23.986807900Z",
     "start_time": "2023-10-19T06:41:23.976771200Z"
    }
   },
   "id": "a39b370fa888047b"
  }
 ],
 "metadata": {
  "kernelspec": {
   "display_name": "Python 3",
   "language": "python",
   "name": "python3"
  },
  "language_info": {
   "codemirror_mode": {
    "name": "ipython",
    "version": 2
   },
   "file_extension": ".py",
   "mimetype": "text/x-python",
   "name": "python",
   "nbconvert_exporter": "python",
   "pygments_lexer": "ipython2",
   "version": "2.7.6"
  }
 },
 "nbformat": 4,
 "nbformat_minor": 5
}
