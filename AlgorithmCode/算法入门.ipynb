{
 "cells": [
  {
   "cell_type": "code",
   "execution_count": null,
   "id": "c29bc88e",
   "metadata": {},
   "outputs": [],
   "source": [
    "'''\n",
    "一辆卡车违反交通规则，撞人后逃跑。现场有三人\n",
    "目击该事件，但都没有记住车号，只记下了车号的一些\n",
    "特征。甲说：牌照的前两位数字是相同的；乙说：牌照\n",
    "的后两位数字是相同的，但与前两位不同；丙是数学\n",
    "家，他说：4位的车号刚好是一个整数的平方。请根据以\n",
    "上线索求出车号。\n",
    "\n",
    "'''\n",
    "\n",
    "\n",
    "# xx...yy\n",
    "# xxyy = t**2\n",
    "# 求这个四位数\n",
    "def getFourNumber():\n",
    "    for i in range(10):\n",
    "        for j in range(10):\n",
    "            if i != j:\n",
    "                k = 1000 * i + 100 * i + 10 * j + j\n",
    "                for t in range(31, 100):\n",
    "                    if t ** 2 == k:\n",
    "                        print(k)\n",
    "\n",
    "\n",
    "getFourNumber()\n"
   ]
  },
  {
   "cell_type": "code",
   "execution_count": null,
   "outputs": [],
   "source": [
    "'''\n",
    "有一对兔子，从出生后的第3个月起每个月都生一对\n",
    "兔子。小兔子长到第3个月后每个月又生一对兔子，假设\n",
    "所有的兔子都不死，问30个月内每个月的兔子总对数为\n",
    "多少？\n",
    "\n",
    "1,2 :1\n",
    "3:2\n",
    "4:1+0+2\n",
    "5:1+1+1+2\n",
    "6:1+1+\n",
    "\n",
    "'''\n",
    "if __name__ == \"__main__\":\n",
    "    fib1 = 1\n",
    "    fib2 = 1\n",
    "    i = 1\n",
    "    while i <= 15:  #每次求两个，因此循环变量循环到15\n",
    "        print(\"%8d    %8d\" % (fib1, fib2), end=\"      \")\n",
    "        if i % 2 == 0:\n",
    "            print()\n",
    "        fib1 = fib1 + fib2  # 最新一个月的兔子对数\n",
    "        fib2 = fib1 + fib2  # 第4个月的兔子对数\n",
    "        i += 1"
   ],
   "metadata": {
    "collapsed": false
   },
   "id": "d683ea4bd8a02524"
  },
  {
   "cell_type": "code",
   "execution_count": null,
   "outputs": [],
   "source": [
    "nums = [3, 2, 2, 3]\n",
    "val = 3\n",
    "\n",
    "p2 = 0\n",
    "for i in range(len(nums)):\n",
    "    if nums[i] != val:\n",
    "        nums[p2] = nums[i]\n",
    "        p2 += 1\n",
    "print(nums[:p2])"
   ],
   "metadata": {
    "collapsed": false
   },
   "id": "af1e9c45ef299bc3"
  },
  {
   "cell_type": "code",
   "execution_count": null,
   "outputs": [],
   "source": [
    "def maxProfit(price) -> int:\n",
    "    cnt = 0\n",
    "    l = len(price)\n",
    "    for x in range(0, l - 1):\n",
    "        diff = price[x + 1] - price[x]\n",
    "        if diff > 0:\n",
    "            cnt = cnt + diff\n",
    "    return cnt\n",
    "\n",
    "\n",
    "prices = [1, 2, 3, 4, 5]\n",
    "maxProfit(prices)\n"
   ],
   "metadata": {
    "collapsed": false
   },
   "id": "e37a0ed38311837c"
  },
  {
   "cell_type": "code",
   "execution_count": null,
   "outputs": [],
   "source": [
    "\"\"\"\n",
    "题目：给你一个非负整数数组 nums ，你最初位于数组的 第一个下标 。数组中的每个元素代表你在该位置可以跳跃的最大长度。\n",
    "    判断你是否能够到达最后一个下标，如果可以，返回 true ；否则，返回 false 。\n",
    "题解：\n",
    "    1、设 maxIndex 为能到达的最大索引的位置\n",
    "    2、判断是否能到达当前位置 maxIndex>=i 并且 索引+索引值 是否大于 maxIndex \n",
    "    3、如果满足2 的条件，则更新maxIndex，否则继续循环\n",
    "    4、直到列表遍历完全，判断maxIndex>i,满足条件则返回True，否则返回False\n",
    "\"\"\"\n",
    "\n",
    "\n",
    "def canJump(nums):\n",
    "    maxIndex = 0\n",
    "    for i, k in enumerate(nums):\n",
    "        if maxIndex >= i and i + k > maxIndex:\n",
    "            maxIndex = i + k\n",
    "    return maxIndex >= i\n",
    "\n",
    "\n",
    "# nums=[3,2,1,0,4]\n",
    "# nums = [2,3,1,1,4]\n",
    "# nums = [0,2,3]\n",
    "nums = [1, 0, 1, 0]\n",
    "canJump(nums)\n"
   ],
   "metadata": {
    "collapsed": false
   },
   "id": "4c3e63ede4a4e730"
  },
  {
   "cell_type": "code",
   "execution_count": null,
   "outputs": [],
   "source": [
    "\n",
    "citations = [3, 0, 6, 1, 5]\n",
    "\n",
    "\n",
    "def hIndex(citations):\n",
    "    l = len(citations)\n",
    "    res = 0\n",
    "    for x in range(l):\n",
    "        if count(x) >= x:\n",
    "            # res.append(x)\n",
    "            res = x\n",
    "    return res\n",
    "\n",
    "\n",
    "def count(x):\n",
    "    cnt = 0\n",
    "    for j in range(len(citations)):\n",
    "        if citations[j] >= x:\n",
    "            cnt += 1\n",
    "    return cnt\n",
    "\n",
    "\n",
    "hIndex(citations)"
   ],
   "metadata": {
    "collapsed": false
   },
   "id": "52ae6820514b478b"
  },
  {
   "cell_type": "code",
   "execution_count": null,
   "outputs": [],
   "source": [
    "'''\n",
    "    矩形蛋糕的高度为 h 且宽度为 w，给你两个整数数组 horizontalCuts 和 verticalCuts，其中：\n",
    "\n",
    "    horizontalCuts[i] 是从矩形蛋糕顶部到第  i 个水平切口的距离\n",
    "    verticalCuts[j] 是从矩形蛋糕的左侧到第 j 个竖直切口的距离\n",
    "    请你按数组 horizontalCuts 和 verticalCuts 中提供的水平和竖直位置切割后，\n",
    "    请你找出 面积最大 的那份蛋糕，并返回其 面积 。由于答案可能是一个很大的数字，因此需要将结果 对 10**9 + 7 取余 后返回。\n",
    "'''\n",
    "\n",
    "from math import e\n",
    "from typing import List\n",
    "h = 1000000000\n",
    "w = 1000000000\n",
    "horizontalCuts = [2]\n",
    "verticalCuts = [2]\n",
    "\n",
    "class Solution:\n",
    "    \n",
    "    def maxArea(slef,h,w,horizontalCuts,verticalCuts):\n",
    "        # 求行间隔最大\n",
    "        max_row = a.max_interval(horizontalCuts,h)\n",
    "        # 求列间隔最大\n",
    "        max_col = a.max_interval(verticalCuts,w)\n",
    "        \n",
    "        Area = max_col * max_row\n",
    "        return Area%(7+10**9)\n",
    "\n",
    "    \n",
    "    \n",
    "    def max_interval(self,horizontalCuts,value):\n",
    "        horizontalCuts.append(0)\n",
    "        horizontalCuts.append(value)\n",
    "        horizontalCuts.sort()\n",
    "        max_row = 0\n",
    "        for i in range(len(horizontalCuts)):\n",
    "            if i+1 < len(horizontalCuts) and horizontalCuts[i + 1] - horizontalCuts[i] > max_row:\n",
    "                max_row = horizontalCuts[i + 1] - horizontalCuts[i]\n",
    "        return max_row\n",
    "            \n",
    "a = Solution()\n",
    "a.maxArea(h,w,horizontalCuts,verticalCuts)\n",
    "\n",
    "\n",
    "# print(1e+9+7)\n",
    "# print(999999996000000004%(1e+9+7))\n",
    "# max_interval(horizontalCuts)\n",
    "# max_interval(verticalCuts)"
   ],
   "metadata": {
    "collapsed": false
   },
   "id": "e953c881a22292c4"
  },
  {
   "cell_type": "code",
   "execution_count": null,
   "outputs": [],
   "source": [],
   "metadata": {
    "collapsed": false
   },
   "id": "c143cf338ea67d46"
  }
 ],
 "metadata": {
  "kernelspec": {
   "display_name": "Python 3 (ipykernel)",
   "language": "python",
   "name": "python3"
  },
  "language_info": {
   "codemirror_mode": {
    "name": "ipython",
    "version": 3
   },
   "file_extension": ".py",
   "mimetype": "text/x-python",
   "name": "python",
   "nbconvert_exporter": "python",
   "pygments_lexer": "ipython3",
   "version": "3.9.13"
  }
 },
 "nbformat": 4,
 "nbformat_minor": 5
}
