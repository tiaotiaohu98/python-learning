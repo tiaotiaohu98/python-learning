{
 "cells": [
  {
   "cell_type": "code",
   "execution_count": null,
   "id": "initial_id",
   "metadata": {
    "collapsed": true
   },
   "outputs": [],
   "source": [
    "from typing import List\n",
    "\n",
    "gifts = [25, 64, 9, 4, 100]\n",
    "\n",
    "\n",
    "def pickGifts(gifts: List[int], k):\n",
    "    i = 0\n",
    "    sum_val = 0\n",
    "    maxIndex = 0\n",
    "    while i < k:\n",
    "        i += 1\n",
    "        for j in range(len(gifts)):\n",
    "            if gifts[j] >= gifts[maxIndex]:\n",
    "                maxIndex = j\n",
    "        gifts[maxIndex] = int(pow(gifts[maxIndex], 0.5))\n",
    "        print(gifts, ' ', maxIndex)\n",
    "        if i == k:\n",
    "            for x in range(len(gifts)):\n",
    "                sum_val += gifts[x]\n",
    "    return sum_val\n",
    "\n",
    "\n",
    "pickGifts(gifts, 4)"
   ]
  },
  {
   "cell_type": "code",
   "execution_count": 3,
   "outputs": [
    {
     "data": {
      "text/plain": "[7, 1, 1, 4, 2, 1]"
     },
     "execution_count": 3,
     "metadata": {},
     "output_type": "execute_result"
    }
   ],
   "source": [
    "'''\n",
    "    2003. 每棵子树内缺失的最小基因值\n",
    "    有一棵根节点为 0 的 家族树 ，总共包含 n 个节点，节点编号为 0 到 n - 1 。给你一个下标从 0 开始的整数数组 parents ，其中 parents[i] 是节点 i 的父节点。由于节点 0 是 根 ，所以 parents[0] == -1 。\n",
    "    \n",
    "    总共有 105 个基因值，每个基因值都用 闭区间 [1, 105] 中的一个整数表示。给你一个下标从 0 开始的整数数组 nums ，其中 nums[i] 是节点 i 的基因值，且基因值互不相同 。\n",
    "\n",
    "    请你返回一个数组 ans ，长度为 n ，其中 ans[i] 是以节点 i 为根的子树内 缺失 的 最小 基因值。\n",
    "'''\n",
    "parents = [-1, 0, 1, 0, 3, 3]\n",
    "nums = [5, 4, 6, 2, 1, 3]\n",
    "\n",
    "\n",
    "def smallestMissingValueSubtree(parents, nums):\n",
    "    n = len(parents)\n",
    "    children = [[] for _ in range(n)]\n",
    "    for i in range(1, n):\n",
    "        children[parents[i]].append(i)\n",
    "    res = [1 for _ in range(n)]\n",
    "\n",
    "    def dfs(node):\n",
    "        geneSet = {nums[node]}\n",
    "        for child in children[node]:\n",
    "            childGeneSet, y = dfs(child)\n",
    "            res[node] = max(res[node], y)\n",
    "            if len(childGeneSet) > len(geneSet):\n",
    "                geneSet, childGeneSet = childGeneSet, geneSet\n",
    "            geneSet.update(childGeneSet)\n",
    "        while res[node] in geneSet:\n",
    "            res[node] += 1\n",
    "\n",
    "        return geneSet, res[node]\n",
    "\n",
    "    dfs(0)\n",
    "    return res\n",
    "\n",
    "\n",
    "smallestMissingValueSubtree(parents, nums)\n",
    "\n"
   ],
   "metadata": {
    "collapsed": false,
    "ExecuteTime": {
     "end_time": "2023-10-31T09:29:47.453033900Z",
     "start_time": "2023-10-31T09:29:47.443090200Z"
    }
   },
   "id": "6d89b5984f24e9dc"
  }
 ],
 "metadata": {
  "kernelspec": {
   "display_name": "Python 3",
   "language": "python",
   "name": "python3"
  },
  "language_info": {
   "codemirror_mode": {
    "name": "ipython",
    "version": 2
   },
   "file_extension": ".py",
   "mimetype": "text/x-python",
   "name": "python",
   "nbconvert_exporter": "python",
   "pygments_lexer": "ipython2",
   "version": "2.7.6"
  }
 },
 "nbformat": 4,
 "nbformat_minor": 5
}
