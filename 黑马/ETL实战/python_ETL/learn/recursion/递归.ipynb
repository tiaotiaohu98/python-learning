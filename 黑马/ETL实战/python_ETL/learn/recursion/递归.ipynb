{
 "cells": [
  {
   "cell_type": "code",
   "execution_count": null,
   "metadata": {},
   "outputs": [],
   "source": [
    "# 正则表达式\n",
    "import re        \n",
    "\n",
    "# 精准匹配字符， match()只能匹配字符串的开始（只匹配一次）\n",
    "str1 = '8sajdhasjdh'\n",
    "result = re.match('8',str1)\n",
    "if result:\n",
    "    print(result.group())\n",
    "\n",
    "# 匹配字符串中的所有数字\n",
    "str2 = '1a2s3d4g5hg67rt8t9t0s'\n",
    "result = re.findall('\\d',str2)\n",
    "print(result)\n",
    "\n",
    "# 匹配字符串中的所有非数字\n",
    "str3 = '1a2s3d4g5hg67rt8t9t0s'\n",
    "result = re.findall('\\D',str3)\n",
    "print(result)\n"
   ]
  },
  {
   "cell_type": "code",
   "execution_count": null,
   "metadata": {},
   "outputs": [],
   "source": [
    "import re\n",
    "\n",
    "# 匹配任意字符\n",
    "str1 = \"8bc123\"\n",
    "result = re.match('.',str1)\n",
    "print(result.group())\n",
    "\n",
    "# 匹配0-9之间的任意字符\n",
    "str2 = '3abc'\n",
    "result = re.match('[0-9]',str2)\n",
    "print(result.group())\n",
    "\n",
    "# 匹配A-Z之间的任意字符\n",
    "str3 = 'CBA123'\n",
    "result = re.match('[A-Z]',str3)\n",
    "print(result.group(0))\n",
    "\n",
    "# 匹配非空字符\n",
    "str4 = 'A dmin'\n",
    "result = re.match('\\S',str4)\n",
    "print(result.group())\n",
    "\n",
    "# 匹配0-9、a-z、A-Z、下划线中的任意某个字符  ==> [0-9a-zA-Z_]\n",
    "str5 = '123abc'\n",
    "result = re.match('\\w', str5)\n",
    "print(result.group())\n",
    "\n"
   ]
  },
  {
   "cell_type": "code",
   "execution_count": null,
   "metadata": {},
   "outputs": [],
   "source": [
    "import re\n",
    "\n",
    "# 定义一个字符串，匹配所有连续字母内容\n",
    "str1 = 'abcd12345'\n",
    "result = re.match('[a-z]*',str1)\n",
    "print(result.group())\n",
    "\n",
    "# 匹配前一个字符出现0次或1次\n",
    "str2 = '100'\n",
    "result = re.match('10?',str2)\n",
    "print(result.group())"
   ]
  },
  {
   "cell_type": "code",
   "execution_count": null,
   "metadata": {},
   "outputs": [],
   "source": [
    "'''\n",
    "    ^ 匹配开头\n",
    "    $ 匹配结尾\n",
    "'''\n",
    "\n",
    "import re\n",
    "\n",
    "mobile = '13586007433'\n",
    "result = re.match('^1[3-9]\\d{9}$', mobile)\n",
    "print(result.group())"
   ]
  },
  {
   "cell_type": "code",
   "execution_count": 4,
   "metadata": {},
   "outputs": [
    {
     "name": "stdout",
     "output_type": "stream",
     "text": [
      "1221\n",
      "3443\n",
      "123\n",
      "2\n"
     ]
    }
   ],
   "source": [
    "'''\n",
    "    使用正则表达式匹配连续字符串，一个()包起来的是一个分组\n",
    "'''\n",
    "from cgitb import reset\n",
    "import re\n",
    "\n",
    "str1 = 'abc111def222wew333dsasd123'\n",
    "result = re.finditer(r'',             b         )\n",
    "\n",
    "str2 = 'asdas1221dasfas3443443sfsdaf'\n",
    "result = re.finditer(r'(\\d)(\\d)\\2\\1',str2)\n",
    "for i in result:\n",
    "    print(i.group())\n",
    "\n",
    "# 通过group()方法，获取指定字符串的指定子串\n",
    "str3 = 'abc123def'\n",
    "result = re.search(r'\\d(\\d)\\d',str3)\n",
    "print(result.group())\n",
    "print(result.group(1))"
   ]
  }
 ],
 "metadata": {
  "kernelspec": {
   "display_name": "jupyterRepo",
   "language": "python",
   "name": "python3"
  },
  "language_info": {
   "codemirror_mode": {
    "name": "ipython",
    "version": 3
   },
   "file_extension": ".py",
   "mimetype": "text/x-python",
   "name": "python",
   "nbconvert_exporter": "python",
   "pygments_lexer": "ipython3",
   "version": "3.10.11"
  },
  "orig_nbformat": 4
 },
 "nbformat": 4,
 "nbformat_minor": 2
}
